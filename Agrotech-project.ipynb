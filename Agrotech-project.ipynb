{
  "cells": [
    {
      "cell_type": "markdown",
      "metadata": {
        "id": "view-in-github",
        "colab_type": "text"
      },
      "source": [
        "<a href=\"https://colab.research.google.com/github/cyberanalyst268/Data-Science-and-Decision-Making/blob/main/Agrotech-project.ipynb\" target=\"_parent\"><img src=\"https://colab.research.google.com/assets/colab-badge.svg\" alt=\"Open In Colab\"/></a>"
      ]
    },
    {
      "cell_type": "code",
      "execution_count": 3,
      "id": "faea5eb8",
      "metadata": {
        "id": "faea5eb8",
        "outputId": "46fc6f37-924e-4daf-c18f-d7d35642e9c1",
        "colab": {
          "base_uri": "https://localhost:8080/",
          "height": 387
        }
      },
      "outputs": [
        {
          "output_type": "error",
          "ename": "ModuleNotFoundError",
          "evalue": "ignored",
          "traceback": [
            "\u001b[0;31m---------------------------------------------------------------------------\u001b[0m",
            "\u001b[0;31mModuleNotFoundError\u001b[0m                       Traceback (most recent call last)",
            "\u001b[0;32m<ipython-input-3-39dce04ebf51>\u001b[0m in \u001b[0;36m<module>\u001b[0;34m()\u001b[0m\n\u001b[1;32m     15\u001b[0m \u001b[0;32mfrom\u001b[0m \u001b[0mpandas\u001b[0m \u001b[0;32mimport\u001b[0m \u001b[0mGrouper\u001b[0m\u001b[0;34m\u001b[0m\u001b[0;34m\u001b[0m\u001b[0m\n\u001b[1;32m     16\u001b[0m \u001b[0;32mfrom\u001b[0m \u001b[0msklearn\u001b[0m \u001b[0;32mimport\u001b[0m \u001b[0mlinear_model\u001b[0m\u001b[0;34m\u001b[0m\u001b[0;34m\u001b[0m\u001b[0m\n\u001b[0;32m---> 17\u001b[0;31m \u001b[0;32mfrom\u001b[0m \u001b[0meconml\u001b[0m\u001b[0;34m.\u001b[0m\u001b[0mmetalearners\u001b[0m \u001b[0;32mimport\u001b[0m \u001b[0mXLearner\u001b[0m\u001b[0;34m\u001b[0m\u001b[0;34m\u001b[0m\u001b[0m\n\u001b[0m\u001b[1;32m     18\u001b[0m \u001b[0;32mfrom\u001b[0m \u001b[0msklearn\u001b[0m\u001b[0;34m.\u001b[0m\u001b[0mensemble\u001b[0m \u001b[0;32mimport\u001b[0m \u001b[0mRandomForestRegressor\u001b[0m\u001b[0;34m,\u001b[0m \u001b[0mRandomForestClassifier\u001b[0m\u001b[0;34m\u001b[0m\u001b[0;34m\u001b[0m\u001b[0m\n\u001b[1;32m     19\u001b[0m \u001b[0;32mfrom\u001b[0m \u001b[0msklearn\u001b[0m\u001b[0;34m.\u001b[0m\u001b[0mmodel_selection\u001b[0m \u001b[0;32mimport\u001b[0m \u001b[0mtrain_test_split\u001b[0m\u001b[0;34m\u001b[0m\u001b[0;34m\u001b[0m\u001b[0m\n",
            "\u001b[0;31mModuleNotFoundError\u001b[0m: No module named 'econml'",
            "",
            "\u001b[0;31m---------------------------------------------------------------------------\u001b[0;32m\nNOTE: If your import is failing due to a missing package, you can\nmanually install dependencies using either !pip or !apt.\n\nTo view examples of installing some common dependencies, click the\n\"Open Examples\" button below.\n\u001b[0;31m---------------------------------------------------------------------------\u001b[0m\n"
          ],
          "errorDetails": {
            "actions": [
              {
                "action": "open_url",
                "actionText": "Open Examples",
                "url": "/notebooks/snippets/importing_libraries.ipynb"
              }
            ]
          }
        }
      ],
      "source": [
        "#Load Libraries\n",
        "%matplotlib inline\n",
        "import matplotlib\n",
        "import numpy as np\n",
        "import matplotlib.pyplot as plt\n",
        "import pandas as pd\n",
        "import seaborn as sns\n",
        "import datetime as dt\n",
        "import scipy.stats as st\n",
        "\n",
        "\n",
        "from pandas import read_csv\n",
        "from matplotlib import pyplot\n",
        "from pandas import DataFrame\n",
        "from pandas import Grouper\n",
        "from sklearn import linear_model\n",
        "from sklearn.ensemble import RandomForestRegressor, RandomForestClassifier\n",
        "from sklearn.model_selection import train_test_split\n",
        "from sklearn.preprocessing import StandardScaler\n",
        "from sklearn import linear_model\n",
        "\n",
        "\n",
        "\n"
      ]
    },
    {
      "cell_type": "code",
      "execution_count": null,
      "id": "60dff3ef-830d-46d2-b99b-0a26a1791e43",
      "metadata": {
        "id": "60dff3ef-830d-46d2-b99b-0a26a1791e43"
      },
      "outputs": [],
      "source": [
        "# Load Agrotech data from the same directory( for simplicity ofcourse.)\n",
        "data = pd.read_excel(r'Data.xlsx',parse_dates=True,sheet_name=None)\n"
      ]
    },
    {
      "cell_type": "code",
      "execution_count": null,
      "id": "49e00937-4d6d-4bf3-a774-f1a0cf5aaf29",
      "metadata": {
        "id": "49e00937-4d6d-4bf3-a774-f1a0cf5aaf29"
      },
      "outputs": [],
      "source": [
        "# display keys of data\n",
        "data.keys()"
      ]
    },
    {
      "cell_type": "code",
      "execution_count": null,
      "id": "5787f91f-8067-4c4a-9ad0-8891339802ce",
      "metadata": {
        "id": "5787f91f-8067-4c4a-9ad0-8891339802ce"
      },
      "outputs": [],
      "source": [
        "#Edit column names to make sure they can be used for comfortably handling data\n",
        "plants = data['plants'].rename(columns={\"Batch Number\": \"batch_number\", \"Plant Date\": \"plant_date\",\"Class\":\"class\",\"Fresh Weight (g)\": \"fresh_weight(g)\",\"Head Weight (g)\": \"head_weight(g)\",\"Radial Diameter (mm)\": \"radial_diameter(mm)\",\"Polar Diameter (mm)\": \"polar_diameter(mm)\",\"Diameter Ratio\": \"diameter_ratio\",\"Leaves\":\"leaves\",\"Density (kg/L)\": \"density(kg/L)\",\"Leaf Area (cm^2)\": \"leaf_area(cm^2)\",\"Square ID\": \"square_id\",\"Check Date\": \"check_date\",\"Flight Date\": \"flight_date\",\"Remove\":\"remove\"},errors=\"raise\")\n",
        "#plants = plants.fillna(1)\n",
        "plants.head()"
      ]
    },
    {
      "cell_type": "code",
      "execution_count": null,
      "id": "3c4553c0",
      "metadata": {
        "id": "3c4553c0"
      },
      "outputs": [],
      "source": [
        "#plot Histogram for Plants Dataset\n",
        "plants.hist(figsize=(40,10))\n",
        "plt.tight_layout()\n",
        "plt.show()"
      ]
    },
    {
      "cell_type": "code",
      "execution_count": null,
      "id": "4e1b3565",
      "metadata": {
        "id": "4e1b3565"
      },
      "outputs": [],
      "source": [
        "#plot scatterplot for plants dataset focusing plant_date and flight_date\n",
        "plants.plot.scatter('plant_date','flight_date')\n",
        "plt.tight_layout()\n",
        "plt.show()"
      ]
    },
    {
      "cell_type": "code",
      "execution_count": null,
      "id": "ba921999-e66f-4a90-a00c-d93c7252ca01",
      "metadata": {
        "id": "ba921999-e66f-4a90-a00c-d93c7252ca01"
      },
      "outputs": [],
      "source": [
        "#rename columns in flight_dates data set\n",
        "flight_dates = data['flight dates'].rename(columns={\"Batch Number\":\"batch_number\",\"Flight Date\":\"flight_date\"},errors=\"raise\")\n",
        "flight_dates.head()                      "
      ]
    },
    {
      "cell_type": "code",
      "execution_count": null,
      "id": "12f7f192",
      "metadata": {
        "id": "12f7f192"
      },
      "outputs": [],
      "source": [
        "#Plot Histogram of flight_dates\n",
        "flight_dates.hist(figsize=(40,10))\n",
        "plt.tight_layout()\n",
        "plt.show()"
      ]
    },
    {
      "cell_type": "code",
      "execution_count": null,
      "id": "b24b77e5-88ce-423d-bfda-3aa79b22fbd4",
      "metadata": {
        "id": "b24b77e5-88ce-423d-bfda-3aa79b22fbd4"
      },
      "outputs": [],
      "source": [
        "#rename columns in planting dataset\n",
        "planting = data['planting'].rename(columns={\"Crop\":\"crop\",\"Column2\":\"column2\",\"Column3\":\"column3\",\"Plant_Date\":\"plant_date\",\"Column1\":\"column1\",\"Region\":\"region\",\"Column4\":\"column4\",\"Planting_Batch\":\"planting_batch\",\"Volume_Planted\":\"volume_planted\",\"Planting_Wk\":\"planting_wk\"},errors=\"raise\")\n",
        "#planting = planting.fillna(1) \n",
        "planting.head()"
      ]
    },
    {
      "cell_type": "code",
      "execution_count": null,
      "id": "3ad7f36b",
      "metadata": {
        "id": "3ad7f36b"
      },
      "outputs": [],
      "source": [
        "#plot histogram for planting dataset\n",
        "planting.hist(figsize=(40,10))\n",
        "plt.tight_layout()\n",
        "plt.show()"
      ]
    },
    {
      "cell_type": "code",
      "execution_count": null,
      "id": "b7130839-b1e3-4c45-bfd0-af8e195b5f51",
      "metadata": {
        "id": "b7130839-b1e3-4c45-bfd0-af8e195b5f51"
      },
      "outputs": [],
      "source": [
        "# rename columns in weather dataset\n",
        "weather = data['weather'].rename(columns={\"Unnamed: 0\":\"unnamed:0\",\"Solar Radiation [avg]\":\"solar_radiation[avg]\",\"Precipitation [sum]\":\"precipitation[sum]\",\"Wind Speed [avg]\":\"wind_speed[avg]\",\"Wind Speed [max]\":\"wind_speed[max]\",\"Battery Voltage [last]\":\"battery_voltage[last]\",\"Leaf Wetness [time]\":\"leaf_wetness[time]\",\"Air Temperature [avg]\":\"air_temperature[avg]\",\"Air Temperature [max]\":\"air_temperature[max]\",\"Air Temperature [min]\":\"air_temperature[min]\",\"Relative Humidity [avg]\":\"relative_humidity[avg]\",\"Dew Point [avg]\":\"dew_point[avg]\",\"Dew Point [min]\":\"dew_point[min]\",\"ET0 [result]\":\"eto[result]\"},errors=\"raise\")\n",
        "#weather = weather.fillna(1)\n",
        "weather.head()"
      ]
    },
    {
      "cell_type": "code",
      "execution_count": null,
      "id": "3ca92140-e3a9-4ce9-a55c-92a584a14be9",
      "metadata": {
        "id": "3ca92140-e3a9-4ce9-a55c-92a584a14be9"
      },
      "outputs": [],
      "source": [
        "#Convert weather data into features.\n",
        "weather_index = weather.keys()\n",
        "plants_index = plants.keys()\n",
        "weather_index,plants_index\n"
      ]
    },
    {
      "cell_type": "code",
      "execution_count": null,
      "id": "bae42ab4-5f3d-4138-b76b-b4b25206d427",
      "metadata": {
        "id": "bae42ab4-5f3d-4138-b76b-b4b25206d427"
      },
      "outputs": [],
      "source": [
        "# Figure out how to use date-time features. Most regressors need numerical variables, so you’ll\n",
        "#need to convert these to some other format. For example, you can create a variable called\n",
        "#days_to_check that converts flight_date into number of days from plant_date.\n",
        "pX = plants['plant_date'] = pd.to_datetime(plants['plant_date'])\n",
        "pX = plants['plant_date']=plants['plant_date'].map(dt.datetime.toordinal)\n",
        "fy = plants['flight_date'] = pd.to_datetime(plants['flight_date'])\n",
        "fy = plants['flight_date']=plants['flight_date'].map(dt.datetime.toordinal)\n",
        "\n"
      ]
    },
    {
      "cell_type": "code",
      "execution_count": null,
      "id": "d6a4585c-15c6-4db4-bc03-044f74248858",
      "metadata": {
        "id": "d6a4585c-15c6-4db4-bc03-044f74248858"
      },
      "outputs": [],
      "source": [
        "days_to_check = pX - fy\n",
        "days_to_check.plot(style='k.')\n",
        "plt.figure(figsize=(12,8))\n",
        "plt.show()"
      ]
    },
    {
      "cell_type": "code",
      "execution_count": null,
      "id": "08487003",
      "metadata": {
        "id": "08487003"
      },
      "outputs": [],
      "source": [
        "# Merge Plants and Weather Datasets\n",
        "frames =[plants,weather]\n",
        "p_w = pd.concat(frames)\n",
        "p_w['check_date'].head(),p_w['plant_date'].head()"
      ]
    },
    {
      "cell_type": "code",
      "execution_count": null,
      "id": "3bbe9418-b30a-4f1e-8ed0-3f0e99c22d87",
      "metadata": {
        "id": "3bbe9418-b30a-4f1e-8ed0-3f0e99c22d87"
      },
      "outputs": [],
      "source": [
        "# Plants and Weather Datasets\n",
        "p_w"
      ]
    },
    {
      "cell_type": "code",
      "execution_count": null,
      "id": "c5c95240",
      "metadata": {
        "id": "c5c95240"
      },
      "outputs": [],
      "source": [
        "#Predict the size of future Lettuce\n",
        "p_w.plot.scatter('plant_date','density(kg/L)','leaf_area(cm^2)','check_date')\n",
        "plt.tight_layout()\n",
        "plt.show()"
      ]
    },
    {
      "cell_type": "code",
      "execution_count": null,
      "id": "4f2e1702",
      "metadata": {
        "id": "4f2e1702"
      },
      "outputs": [],
      "source": [
        "#simultaneously predict head weight, polar diameter, and radial diameter at the ‘Check Date’ using information about the plant at flight time and about the weather.\n",
        "p_w.plot.scatter('head_weight(g)','polar_diameter(mm)','radial_diameter(mm)','check_date')\n",
        "plt.tight_layout()\n",
        "plt.show()"
      ]
    },
    {
      "cell_type": "code",
      "execution_count": null,
      "id": "9431c867",
      "metadata": {
        "scrolled": true,
        "id": "9431c867"
      },
      "outputs": [],
      "source": [
        "#Merge features you’ve created from the weather data with the plant dataframe so you can use\n",
        "them.\n",
        "p_w['plant_date'] = pd.to_datetime(p_w['plant_date'])\n",
        "p_w['plant_date'] = p_w['plant_date'].map(dt.datetime.toordinal)\n",
        "p_w['check_date'] = pd.to_datetime(p_w['check_date'])\n",
        "p_w['check_date'] = p_w['check_date'].map(dt.datetime.toordinal)\n",
        "p_w['flight_date'] = pd.to_datetime(p_w['flight_date'])\n",
        "p_w['flight_date'] = p_w['flight_date'].map(dt.datetime.toordinal)\n",
        "X = p_w['check_date'] - p_w['plant_date']\n",
        "y = pd.to_datetime(p_w['flight_date'])\n",
        "X = pd.to_datetime(X)\n"
      ]
    },
    {
      "cell_type": "code",
      "execution_count": null,
      "id": "d52dfa63",
      "metadata": {
        "id": "d52dfa63"
      },
      "outputs": [],
      "source": [
        "#plot of plant and flight dates of lettuce in the future below.\n",
        "p_w.plot.scatter('check_date','plant_date')\n",
        "plt.tight_layout()\n",
        "plt.show"
      ]
    },
    {
      "cell_type": "code",
      "execution_count": null,
      "id": "64ad69d4",
      "metadata": {
        "id": "64ad69d4"
      },
      "outputs": [],
      "source": [
        "p_w['head_weight(g)'].plot(figsize=(16,8)),X.plot(figsize=(16,8)),y.plot(figsize=(16,8))\n",
        "plt.show()"
      ]
    },
    {
      "cell_type": "code",
      "execution_count": null,
      "id": "1e921db6",
      "metadata": {
        "id": "1e921db6"
      },
      "outputs": [],
      "source": [
        "p_w['polar_diameter(mm)'].plot(figsize=(16,8)),X.plot(figsize=(16,8)),y.plot(figsize=(16,8))\n",
        "plt.show()"
      ]
    },
    {
      "cell_type": "code",
      "execution_count": null,
      "id": "90d85a54",
      "metadata": {
        "id": "90d85a54"
      },
      "outputs": [],
      "source": [
        "p_w['radial_diameter(mm)'].plot(figsize=(16,8)),X.plot(figsize=(16,8)),y.plot(figsize=(16,8))\n",
        "plt.show()"
      ]
    },
    {
      "cell_type": "code",
      "execution_count": null,
      "id": "6a29318d-b535-46a8-aac5-480eb2e81c6b",
      "metadata": {
        "id": "6a29318d-b535-46a8-aac5-480eb2e81c6b"
      },
      "outputs": [],
      "source": [
        ""
      ]
    }
  ],
  "metadata": {
    "kernelspec": {
      "display_name": "Python 3 (ipykernel)",
      "language": "python",
      "name": "python3"
    },
    "language_info": {
      "codemirror_mode": {
        "name": "ipython",
        "version": 3
      },
      "file_extension": ".py",
      "mimetype": "text/x-python",
      "name": "python",
      "nbconvert_exporter": "python",
      "pygments_lexer": "ipython3",
      "version": "3.9.10"
    },
    "colab": {
      "name": "Agrotech-project.ipynb",
      "provenance": [],
      "include_colab_link": true
    }
  },
  "nbformat": 4,
  "nbformat_minor": 5
}