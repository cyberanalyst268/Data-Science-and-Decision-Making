{
  "cells": [
    {
      "cell_type": "markdown",
      "metadata": {
        "id": "view-in-github",
        "colab_type": "text"
      },
      "source": [
        "<a href=\"https://colab.research.google.com/github/cyberanalyst268/Data-Science-and-Decision-Making/blob/main/Lab_2.ipynb\" target=\"_parent\"><img src=\"https://colab.research.google.com/assets/colab-badge.svg\" alt=\"Open In Colab\"/></a>"
      ]
    },
    {
      "cell_type": "markdown",
      "metadata": {
        "id": "nCi_99yMYIb1"
      },
      "source": [
        "In this notebook you'll create your own bootstrap function following the bootstrap algorithm (check the lecture notes!)"
      ]
    },
    {
      "cell_type": "code",
      "execution_count": null,
      "metadata": {
        "id": "LY5zujI2YC37",
        "pycharm": {
          "name": "#%%# Imports\n"
        }
      },
      "outputs": [],
      "source": [
        "import matplotlib\n",
        "import pandas as pd\n",
        "import seaborn as sns\n",
        "import numpy as np"
      ]
    },
    {
      "cell_type": "code",
      "execution_count": null,
      "metadata": {
        "id": "Eqkwj4SMY38t"
      },
      "outputs": [],
      "source": [
        "# Load the data\n",
        "df = pd.read_csv('https://raw.githubusercontent.com/albanda/CE888/master/lab2%20-%20bootstrap/customers.csv')\n",
        "data = df.values.T[1]\n",
        "\n"
      ]
    },
    {
      "cell_type": "code",
      "execution_count": null,
      "metadata": {
        "id": "Gxvc_bScYC4H",
        "pycharm": {
          "name": "#%%\n"
        }
      },
      "outputs": [],
      "source": [
        "# Checking the notes from the lecture, create here your own bootstrap function:\n",
        "# 1. Sample from the input array x to create an array of samples of shape (n_bootstraps, sample_size)\n",
        "# Hint: Check the function random.choice() on Numpy\n",
        "# 2. Calculate and save the mean of the array (this is \"data_mean\" that is returned by the function)\n",
        "# 3. Calculate the mean from each bootstrap (i.e., row) and store it.\n",
        "# (This should be an array of n_bootstraps values)\n",
        "# 4. Calculate the lower and upper bounds for a 95% CI (hint: check the percentile function on Numpy)\n",
        "# 5. Return data_mean, and the lower and upper bounds of your interval\n",
        "def bootstrap_mean(x, sample_size, n_bootstraps):\n",
        "    a = np.random.choice(x, size=(n_bootstraps, sample_size))\n",
        "    data_mean = np.mean(a)\n",
        "    rdata_mean = np.mean(a, axis=1)\n",
        "    assert rdata_mean.shape[0] == n_bootstraps, 'Change axis!!'\n",
        "    lower = np.percentile(rdata_mean,2.5)\n",
        "    upper = np.percentile(rdata_mean,97.5)\n",
        "    return data_mean, lower, upper\n",
        "    \n",
        "    "
      ]
    },
    {
      "cell_type": "code",
      "execution_count": null,
      "metadata": {
        "id": "4DfHxNiMTOnH"
      },
      "outputs": [],
      "source": [
        "def bootstrap_std(x, sample_size, n_bootstraps):\n",
        "    a = np.random.choice(x, size=(n_bootstraps, sample_size))\n",
        "    data_std = np.std(a)\n",
        "    rdata_std = np.std(a, axis=1)\n",
        "    assert rdata_std.shape[0] == n_bootstraps, 'Change axis!!'\n",
        "    lower = np.percentile(rdata_std,2.5)\n",
        "    upper = np.percentile(rdata_std,97.5)\n",
        "    return data_std, lower, upper"
      ]
    },
    {
      "cell_type": "markdown",
      "metadata": {
        "id": "qzrY2kcmxpOB"
      },
      "source": [
        ""
      ]
    },
    {
      "cell_type": "code",
      "execution_count": null,
      "metadata": {
        "colab": {
          "base_uri": "https://localhost:8080/",
          "height": 444
        },
        "id": "AN7sEOcMYC4P",
        "outputId": "0c732b89-4238-457e-94ae-31aca41c27e1",
        "pycharm": {
          "name": "#%%\n"
        }
      },
      "outputs": [
        {
          "name": "stderr",
          "output_type": "stream",
          "text": [
            "c:\\python3\\lib\\site-packages\\seaborn\\_decorators.py:36: FutureWarning: Pass the following variables as keyword args: x, y. From version 0.12, the only valid positional argument will be `data`, and passing other arguments without an explicit keyword will result in an error or misinterpretation.\n",
            "  warnings.warn(\n"
          ]
        },
        {
          "data": {
            "text/plain": [
              "(0.0, 50000.0)"
            ]
          },
          "execution_count": 5,
          "metadata": {},
          "output_type": "execute_result"
        },
        {
          "data": {
            "image/png": "[encoded data removed]",
            "text/plain": [
              "<Figure size 425.125x360 with 1 Axes>"
            ]
          },
          "metadata": {
            "needs_background": "light"
          },
          "output_type": "display_data"
        }
      ],
      "source": [
        "# Call your bootstrap function and plot the results\n",
        "boots = []\n",
        "for i in range(100, 50000, 1000):\n",
        "  boot = bootstrap_mean(data, data.shape[0], i)\n",
        "  boots.append([i, boot[0], \"mean\"])\n",
        "  boots.append([i, boot[1], \"lower\"])\n",
        "  boots.append([i, boot[2], \"upper\"])\n",
        "\n",
        "df_boot = pd.DataFrame(boots, columns=['Bootstrap Iterations', 'Mean', \"Value\"])\n",
        "sns_plot = sns.lmplot(df_boot.columns[0], df_boot.columns[1], data=df_boot, fit_reg=False, hue=\"Value\")\n",
        "\n",
        "sns_plot.axes[0, 0].set_ylim(0,)\n",
        "sns_plot.axes[0, 0].set_xlim(0, 50000)\n"
      ]
    },
    {
      "cell_type": "markdown",
      "metadata": {
        "id": "MjtP4e2_YC4V"
      },
      "source": [
        "\n",
        "Now, modify the bootstrap function you created above so that you can pass your desired confidence interval as a parameter.\n",
        "\n"
      ]
    },
    {
      "cell_type": "code",
      "execution_count": null,
      "metadata": {
        "id": "3K9j0FuGYhHs"
      },
      "outputs": [],
      "source": [
        "def bootstrap_mean_ci(sample, sample_size, n_bootstraps, ci):\n",
        "    a = np.random.choice(sample, size=(n_bootstraps, sample_size))\n",
        "    data_mean = np.mean(a)\n",
        "    data_mean_r = np.mean(a, axis=1)\n",
        "    assert data_mean_r.shape[0] == n_bootstraps, 'Change axis!!'\n",
        "    alpha = (100 - ci) / 2\n",
        "    lower = np.percentile(data_mean_r,alpha)\n",
        "    upper = np.percentile(data_mean_r,ci + alpha )\n",
        "    return data_mean, lower, upper\n",
        "\n",
        "    # (100 - x  ) / 2 = lower\n",
        "    # 100 - 80 = 2\n",
        "    #10"
      ]
    },
    {
      "cell_type": "code",
      "execution_count": null,
      "metadata": {
        "id": "OIq61kptT_Wu"
      },
      "outputs": [],
      "source": [
        "def bootstrap_std_ci(sample, sample_size, n_bootstraps,ci):\n",
        "    a = np.random.choice(sample, size=(n_bootstraps, sample_size))\n",
        "    data_std = np.std(a)\n",
        "    rdata_std = np.std(a, axis=1)\n",
        "    assert rdata_std.shape[0] == n_bootstraps, 'Change axis!!'\n",
        "    alpha = (100 - ci) / 2\n",
        "    lower = np.percentile(data_std,alpha)\n",
        "    upper = np.percentile(rdata_std,ci + alpha )\n",
        "    return data_std, lower, upper\n"
      ]
    },
    {
      "cell_type": "code",
      "execution_count": null,
      "metadata": {
        "colab": {
          "base_uri": "https://localhost:8080/",
          "height": 444
        },
        "id": "uDnjq08GYl-C",
        "outputId": "b4fd418c-8094-44e2-829c-a6f5ed59be5c"
      },
      "outputs": [
        {
          "name": "stderr",
          "output_type": "stream",
          "text": [
            "c:\\python3\\lib\\site-packages\\seaborn\\_decorators.py:36: FutureWarning: Pass the following variables as keyword args: x, y. From version 0.12, the only valid positional argument will be `data`, and passing other arguments without an explicit keyword will result in an error or misinterpretation.\n",
            "  warnings.warn(\n"
          ]
        },
        {
          "data": {
            "text/plain": [
              "(0.0, 50000.0)"
            ]
          },
          "execution_count": 8,
          "metadata": {},
          "output_type": "execute_result"
        },
        {
          "data": {
            "image/png": "[encoded data removed]",
            "text/plain": [
              "<Figure size 425.125x360 with 1 Axes>"
            ]
          },
          "metadata": {
            "needs_background": "light"
          },
          "output_type": "display_data"
        }
      ],
      "source": [
        "boots = []\n",
        "for i in range(100, 50000, 1000):\n",
        "    boot = bootstrap_mean_ci(data, data.shape[0], i, 80)\n",
        "    boots.append([i, boot[0], \"mean\"])\n",
        "    boots.append([i, boot[1], \"lower\"])\n",
        "    boots.append([i, boot[2], \"upper\"])\n",
        "\n",
        "df_boot = pd.DataFrame(boots, columns=['Boostrap Iterations', 'Mean', \"Value\"])\n",
        "sns_plot = sns.lmplot(df_boot.columns[0], df_boot.columns[1], data=df_boot, fit_reg=False, hue=\"Value\")\n",
        "\n",
        "sns_plot.axes[0, 0].set_ylim(0,)\n",
        "sns_plot.axes[0, 0].set_xlim(0, 50000)\n",
        "\n",
        "#sns_plot.savefig(\"bootstrap_confidence_80.pdf\", bbox_inches='tight')"
      ]
    },
    {
      "cell_type": "markdown",
      "metadata": {
        "id": "qjNgXW6wdd7r"
      },
      "source": [
        "# Vehicles dataset\n",
        "\n",
        "Now let's work on a different dataset, which is stored in the vehicles.csv file.\n"
      ]
    },
    {
      "cell_type": "code",
      "execution_count": null,
      "metadata": {
        "colab": {
          "base_uri": "https://localhost:8080/",
          "height": 444
        },
        "id": "avWv4ipFdpka",
        "outputId": "a5c62e54-be5f-499e-e309-bc487a4f12d7"
      },
      "outputs": [
        {
          "name": "stderr",
          "output_type": "stream",
          "text": [
            "c:\\python3\\lib\\site-packages\\seaborn\\_decorators.py:36: FutureWarning: Pass the following variables as keyword args: x, y. From version 0.12, the only valid positional argument will be `data`, and passing other arguments without an explicit keyword will result in an error or misinterpretation.\n",
            "  warnings.warn(\n"
          ]
        },
        {
          "data": {
            "text/plain": [
              "<seaborn.axisgrid.FacetGrid at 0x2021427d2b0>"
            ]
          },
          "execution_count": 9,
          "metadata": {},
          "output_type": "execute_result"
        },
        {
          "data": {
            "image/png": "[encoded data removed]",
            "text/plain": [
              "<Figure size 360x360 with 1 Axes>"
            ]
          },
          "metadata": {
            "needs_background": "light"
          },
          "output_type": "display_data"
        }
      ],
      "source": [
        "# Load and visualise the vehicles dataset\n",
        "# To load the dataset: https://neptune.ai/blog/google-colab-dealing-with-files (check section \"Load individual files directly from GitHub\")\n",
        "# Load the data\n",
        "df = pd.read_csv('https://raw.githubusercontent.com/albanda/CE888/master/lab2%20-%20bootstrap/vehicles.csv')\n",
        "\n",
        "\n",
        "# Note that the current and new fleets are in different columns and have different lengths, so bear this in mind when you're plotting.\n",
        "# You can create separate scatterplots for the two fleets, as you would with the histograms, \n",
        "# or plot them both in one plot (but not one against the other).\n",
        "sns.lmplot(df.columns[0], df.columns[1],\n",
        "data=df, fit_reg=False)\n",
        "# Note: you can add more cells as needed to organise your code and your plots"
      ]
    },
    {
      "cell_type": "markdown",
      "metadata": {
        "id": "B5d0tXDpIEj8"
      },
      "source": [
        "## Compare the two fleets\n",
        "\n",
        "The business analysts come up a comparison algorithm that requires the upper and lower bounds for the mean in order to say which fleet is better.\n",
        "1. Calculate the mean of both samples.\n",
        "2. Using the bootstrap function that you created:\n",
        "    - Construct the 95% CI of the mean of the current fleet.\n",
        "    - Construct the 95% CI of the mean of the new fleet.\n",
        "    - Are they comparable? (i.e., is one better than the other?) -- you can do this with a permutation test (check the lecture notes!)"
      ]
    },
    {
      "cell_type": "code",
      "execution_count": null,
      "metadata": {
        "cellView": "code",
        "colab": {
          "base_uri": "https://localhost:8080/",
          "height": 480
        },
        "id": "po4mp6zRHC0m",
        "outputId": "626cc056-ac26-4cda-864d-c347e9577fc4"
      },
      "outputs": [
        {
          "name": "stdout",
          "output_type": "stream",
          "text": [
            "Old fleet Mean: 20.144578\n",
            "New fleet Mean: 30.481013\n"
          ]
        },
        {
          "name": "stderr",
          "output_type": "stream",
          "text": [
            "c:\\python3\\lib\\site-packages\\seaborn\\_decorators.py:36: FutureWarning: Pass the following variables as keyword args: x, y. From version 0.12, the only valid positional argument will be `data`, and passing other arguments without an explicit keyword will result in an error or misinterpretation.\n",
            "  warnings.warn(\n"
          ]
        },
        {
          "data": {
            "text/plain": [
              "(0.0, 50000.0)"
            ]
          },
          "execution_count": 10,
          "metadata": {},
          "output_type": "execute_result"
        },
        {
          "data": {
            "image/png": "[encoded data removed]",
            "text/plain": [
              "<Figure size 425.125x360 with 1 Axes>"
            ]
          },
          "metadata": {
            "needs_background": "light"
          },
          "output_type": "display_data"
        }
      ],
      "source": [
        "#@title Default title text\n",
        "of = df[df.columns[0]].values\n",
        "\n",
        "nf = df.dropna(axis=0, how='any', thresh=None, subset=None, inplace=False)[df.columns[1]].values\n",
        "print((\"Old fleet Mean: %f\" % np.mean(of)))\n",
        "print((\"New fleet Mean: %f\" % np.mean(nf)))\n",
        "\n",
        "\n",
        "\n",
        "boots = []\n",
        "for i in range(100, 50000, 1000):\n",
        "    boot = bootstrap_mean_ci(of, data.shape[0], i, 95)\n",
        "    boots.append([i, boot[0], \"mean\"])\n",
        "    boots.append([i, boot[1], \"lower\"])\n",
        "    boots.append([i, boot[2], \"upper\"])\n",
        "\n",
        "    boot = bootstrap_mean_ci(nf, data.shape[0], i, 80)\n",
        "    boots.append([i, boot[0], \"mean\"])\n",
        "    boots.append([i, boot[1], \"lower\"])\n",
        "    boots.append([i, boot[2], \"upper\"])\n",
        "\n",
        "df_boot = pd.DataFrame(boots, columns=['Boostrap Iterations', 'Mean', \"Value\"])\n",
        "sns_plot = sns.lmplot(df_boot.columns[0], df_boot.columns[1], data=df_boot, fit_reg=False, hue=\"Value\")\n",
        "\n",
        "sns_plot.axes[0, 0].set_ylim(0,)\n",
        "sns_plot.axes[0, 0].set_xlim(0, 50000)\n",
        "\n"
      ]
    },
    {
      "cell_type": "code",
      "execution_count": null,
      "metadata": {
        "colab": {
          "base_uri": "https://localhost:8080/"
        },
        "id": "R1wOOXS_ZZeh",
        "outputId": "eea0d0ec-4c41-4f2f-a7fe-3b6dfb70a87c"
      },
      "outputs": [
        {
          "data": {
            "text/plain": [
              "(20.147799598393576, 19.46586345381526, 20.87550200803213)"
            ]
          },
          "execution_count": 11,
          "metadata": {},
          "output_type": "execute_result"
        }
      ],
      "source": [
        "bootstrap_mean_ci(of, of.shape[0], 10000, 92)"
      ]
    },
    {
      "cell_type": "code",
      "execution_count": null,
      "metadata": {
        "colab": {
          "base_uri": "https://localhost:8080/"
        },
        "id": "-RyepyUgZY2Z",
        "outputId": "8b2ca0b8-c75a-4178-ec6e-834d847f4857"
      },
      "outputs": [
        {
          "data": {
            "text/plain": [
              "(6.402567659099822, 6.402567659099822, 6.702964041369166)"
            ]
          },
          "execution_count": 12,
          "metadata": {},
          "output_type": "execute_result"
        }
      ],
      "source": [
        "bootstrap_std_ci(of, of.shape[0], 10000, 73)"
      ]
    },
    {
      "cell_type": "code",
      "execution_count": null,
      "metadata": {
        "colab": {
          "base_uri": "https://localhost:8080/"
        },
        "id": "Z_Nl7LLdZYqX",
        "outputId": "53939da2-0e2c-4857-aa80-d40554faaca0"
      },
      "outputs": [
        {
          "data": {
            "text/plain": [
              "(30.478686075949366, 29.60759493670886, 31.367088607594937)"
            ]
          },
          "execution_count": 13,
          "metadata": {},
          "output_type": "execute_result"
        }
      ],
      "source": [
        "bootstrap_mean_ci(nf, nf.shape[0], 10000, 80)"
      ]
    },
    {
      "cell_type": "code",
      "execution_count": null,
      "metadata": {
        "colab": {
          "base_uri": "https://localhost:8080/"
        },
        "id": "JFVUAzJBZvmb",
        "outputId": "8bfe85b1-6d7c-41b2-ad05-f3a81898fa25"
      },
      "outputs": [
        {
          "data": {
            "text/plain": [
              "(6.0732633196448536, 6.0732633196448536, 6.907203603614741)"
            ]
          },
          "execution_count": 14,
          "metadata": {},
          "output_type": "execute_result"
        }
      ],
      "source": [
        "bootstrap_std_ci(nf, nf.shape[0], 10000, 95)"
      ]
    },
    {
      "cell_type": "code",
      "execution_count": null,
      "metadata": {
        "id": "MkxvDZG4HC0n"
      },
      "outputs": [],
      "source": [
        "# Create your own function for a permutation test here (you will need it for the lab quiz!):\n",
        "def permut_test(sample, sample2, n_permutations):\n",
        "    \"\"\"\n",
        "    sample1: 1D array\n",
        "    sample2: 1D array (note that the size of the two arrays can be different)\n",
        "    n_permutations: number of permutations to calculate the p-value\n",
        "    \"\"\"\n",
        "    #n_permutations = 10000\n",
        "    #data = np.array([0, 0, 0, 0, 0, 0, 1, 0, 0, 1, 0])\n",
        "    #newdata = np.array([1, 0, 0, 1, 1, 1, 0, 0, 0, 1, 0])\n",
        "    count = 0\n",
        "    tmean = np.mean(sample)\n",
        "    tmean2 = np.mean(sample2)\n",
        "    tobs = tmean2 - tmean\n",
        "    # for loop (start,stop,step)\n",
        "    for i in range(0,n_permutations):\n",
        "      concat = np.concatenate((sample, sample2))\n",
        "      perm = np.random.permutation(concat)\n",
        "      psample1 = perm[:int(len(sample))] \n",
        "      psample2 = perm[int(len(sample)):] \n",
        "      pmean = np.mean(psample1)\n",
        "      pmean2 = np.mean(psample2)\n",
        "      pvalue = pmean2 - pmean\n",
        "      \n",
        "      count += pvalue > tobs\n",
        "    \n",
        "    return count /n_permutations\n",
        "    \n",
        "  \n",
        "  # data = [1, 2, 3, 4, 5]\n",
        "  # newdata = [1, 2, 3, 4, 5, 6, 7, 8, 9, 10]\n",
        "  # perm = [1, 2, 3, 4, 5, 1, 2, 3, 4, 5, 6, 7, 8, 9, 10]\n",
        "  # perm_data = [5 element]\n",
        "  # perm_newdata = [10 elements]\n",
        "  # perm_data = [:len(data)]\n",
        "  # perm_newdata = [len(data):]"
      ]
    },
    {
      "cell_type": "code",
      "execution_count": null,
      "metadata": {
        "colab": {
          "base_uri": "https://localhost:8080/"
        },
        "id": "2xrcIqk6zfVB",
        "outputId": "da45c8af-9972-4d3d-9a7a-5a12c593ae9f"
      },
      "outputs": [
        {
          "data": {
            "text/plain": [
              "0.0"
            ]
          },
          "execution_count": 16,
          "metadata": {},
          "output_type": "execute_result"
        }
      ],
      "source": [
        "permut_test(of, nf, 30000)"
      ]
    },
    {
      "cell_type": "code",
      "execution_count": null,
      "metadata": {
        "colab": {
          "base_uri": "https://localhost:8080/"
        },
        "id": "t7AHP99bN6Oc",
        "outputId": "9b479c01-3b8a-44b5-ca54-9c791186c778"
      },
      "outputs": [
        {
          "name": "stdout",
          "output_type": "stream",
          "text": [
            "[ 1.  2.  3.  4.  5.  6.  7.  8.  9. 10. 11. 12. 13. 14.]\n",
            "[ 2.  8. 20. 13.  5.  9. 10.  8. 22. 10.  2.  4.  7.  9.]\n",
            "[ 1.  2.  3.  4.  5.  6.  7.  8.  9. 10. 11. 12. 13. 14.  2.  8. 20. 13.\n",
            "  5.  9. 10.  8. 22. 10.  2.  4.  7.  9.]\n"
          ]
        }
      ],
      "source": [
        "from operator import concat\n",
        "df = pd.read_csv('https://raw.githubusercontent.com/albanda/CE888/master/lab2%20-%20bootstrap/customers.csv')\n",
        "day = df.values.T[0]\n",
        "mopis = df.values.T[1]\n",
        "customer = np.hstack((day, mopis))\n",
        "print (day)\n",
        "print(mopis)\n",
        "print(customer)"
      ]
    },
    {
      "cell_type": "code",
      "execution_count": null,
      "metadata": {
        "colab": {
          "base_uri": "https://localhost:8080/"
        },
        "id": "9tvaPSnq5EW5",
        "outputId": "cdbad212-4d4f-42e2-82c6-2bef1476a0c4"
      },
      "outputs": [
        {
          "data": {
            "text/plain": [
              "0.1822"
            ]
          },
          "execution_count": 18,
          "metadata": {},
          "output_type": "execute_result"
        }
      ],
      "source": [
        "permut_test(day, mopis, 30000)"
      ]
    },
    {
      "cell_type": "code",
      "execution_count": null,
      "metadata": {
        "colab": {
          "base_uri": "https://localhost:8080/"
        },
        "id": "LcnqYgJs2F1R",
        "outputId": "3f74e1b8-ea25-4fc3-b796-817746dc05fa"
      },
      "outputs": [
        {
          "data": {
            "text/plain": [
              "(8.356553571428572, 7.142857142857144, 9.610714285714298)"
            ]
          },
          "execution_count": 19,
          "metadata": {},
          "output_type": "execute_result"
        }
      ],
      "source": [
        "bootstrap_mean_ci(customer, customer.shape[0], 10000, 80)"
      ]
    },
    {
      "cell_type": "code",
      "execution_count": null,
      "metadata": {
        "colab": {
          "base_uri": "https://localhost:8080/"
        },
        "id": "ZSg784UpU2To",
        "outputId": "adcc06f2-3c3f-477c-cd32-b466b5bb5aff"
      },
      "outputs": [
        {
          "data": {
            "text/plain": [
              "(4.997970151796882, 4.997970151796882, 6.342710339777125)"
            ]
          },
          "execution_count": 20,
          "metadata": {},
          "output_type": "execute_result"
        }
      ],
      "source": [
        "bootstrap_std_ci(customer, customer.shape[0], 10000, 95)"
      ]
    },
    {
      "cell_type": "code",
      "execution_count": null,
      "metadata": {
        "colab": {
          "base_uri": "https://localhost:8080/"
        },
        "id": "GqmYwSUBGm0n",
        "outputId": "907b8a23-af8b-43d6-fbfe-97cf3c5a1ab0"
      },
      "outputs": [
        {
          "name": "stdout",
          "output_type": "stream",
          "text": [
            "67\n",
            "88\n"
          ]
        }
      ],
      "source": [
        "import numpy as np\n",
        "# The variables below represent the percentages of democratic votes in Pennsylvania and Ohio (one value for each state).\n",
        "dem_share_PA = [60.08, 40.64, 36.07, 41.21, 31.04, 43.78, 44.08, 46.85, 44.71, 46.15, 63.10, 52.20, 43.18, 40.24, 39.92, 47.87, 37.77, 40.11, 49.85, 48.61, 38.62, 54.25, 34.84, 47.75, 43.82, 55.97, 58.23, 42.97, 42.38, 36.11, 37.53, 42.65, 50.96, 47.43, 56.24, 45.60, 46.39, 35.22, 48.56, 32.97, 57.88, 36.05, 37.72, 50.36, 32.12, 41.55, 54.66, 57.81, 54.58, 32.88, 54.37, 40.45, 47.61, 60.49, 43.11, 27.32, 44.03, 33.56, 37.26, 54.64, 43.12, 25.34, 49.79, 83.56, 40.09, 60.81, 49.81]\n",
        "dem_share_OH = [56.94, 50.46, 65.99, 45.88, 42.23, 45.26, 57.01, 53.61, 59.10, 61.48, 43.43, 44.69, 54.59, 48.36, 45.89, 48.62, 43.92, 38.23, 28.79, 63.57, 38.07, 40.18, 43.05, 41.56, 42.49, 36.06, 52.76, 46.07, 39.43, 39.26, 47.47, 27.92, 38.01, 45.45, 29.07, 28.94, 51.28, 50.10, 39.84, 36.43, 35.71, 31.47, 47.01, 40.10, 48.76, 31.56, 39.86, 45.31, 35.47, 51.38, 46.33, 48.73, 41.77, 41.32, 48.46, 53.14, 34.01, 54.74, 40.67, 38.96, 46.29, 38.25, 6.80, 31.75, 46.33, 44.90, 33.57, 38.10, 39.67, 40.47, 49.44, 37.62, 36.71, 46.73, 42.20, 53.16, 52.40, 58.36, 68.02, 38.53, 34.58, 69.64, 60.50, 53.53, 36.54, 49.58, 41.97, 38.11]\n",
        "print(len(dem_share_PA))\n",
        "print(len(dem_share_OH))\n"
      ]
    },
    {
      "cell_type": "code",
      "execution_count": null,
      "metadata": {
        "colab": {
          "base_uri": "https://localhost:8080/"
        },
        "id": "ftEOB0LT2NGa",
        "outputId": "99bee02d-e851-4928-e371-f3c7f3a1a93d"
      },
      "outputs": [
        {
          "data": {
            "text/plain": [
              "0.7682"
            ]
          },
          "execution_count": 22,
          "metadata": {},
          "output_type": "execute_result"
        }
      ],
      "source": [
        "permut_test(dem_share_PA,dem_share_OH, 10000)"
      ]
    },
    {
      "cell_type": "code",
      "execution_count": null,
      "metadata": {
        "colab": {
          "base_uri": "https://localhost:8080/"
        },
        "id": "jXNDGUeNJfAh",
        "outputId": "5152317d-e7f0-4c52-8125-c4d14feddca2"
      },
      "outputs": [
        {
          "data": {
            "text/plain": [
              "(44.32776862499998, 42.272375, 46.37095170454545)"
            ]
          },
          "execution_count": 23,
          "metadata": {},
          "output_type": "execute_result"
        }
      ],
      "source": [
        "bootstrap_mean_ci(dem_share_OH,88, 20000, 95)"
      ]
    },
    {
      "cell_type": "code",
      "execution_count": null,
      "metadata": {
        "colab": {
          "base_uri": "https://localhost:8080/"
        },
        "id": "Vh2oFryM8mRN",
        "outputId": "3f971a83-3bf4-4295-b316-6928212840b8"
      },
      "outputs": [
        {
          "data": {
            "text/plain": [
              "(9.831149836399318, 9.831149836399318, 11.41075995988356)"
            ]
          },
          "execution_count": 24,
          "metadata": {},
          "output_type": "execute_result"
        }
      ],
      "source": [
        "bootstrap_std_ci(dem_share_OH,88, 25000, 90)"
      ]
    },
    {
      "cell_type": "code",
      "execution_count": null,
      "metadata": {
        "colab": {
          "base_uri": "https://localhost:8080/"
        },
        "id": "squTCt6t2RGB",
        "outputId": "cd058a34-8fa4-469a-9065-79052a024229"
      },
      "outputs": [
        {
          "data": {
            "text/plain": [
              "(45.48246503731344, 43.21582089552239, 47.857041044776125)"
            ]
          },
          "execution_count": 25,
          "metadata": {},
          "output_type": "execute_result"
        }
      ],
      "source": [
        "bootstrap_mean_ci(dem_share_PA,67, 20000, 95)\n"
      ]
    },
    {
      "cell_type": "code",
      "execution_count": null,
      "metadata": {
        "colab": {
          "base_uri": "https://localhost:8080/"
        },
        "id": "ByqpbhEl4tH6",
        "outputId": "3a273917-b341-4310-8334-4828530806b7"
      },
      "outputs": [
        {
          "data": {
            "text/plain": [
              "(9.732174335892719, 9.732174335892719, 12.038465239209266)"
            ]
          },
          "execution_count": 26,
          "metadata": {},
          "output_type": "execute_result"
        }
      ],
      "source": [
        "bootstrap_std_ci(dem_share_PA,67, 20000, 95)"
      ]
    },
    {
      "cell_type": "code",
      "execution_count": null,
      "metadata": {
        "id": "F2SJGQZxJtaZ"
      },
      "outputs": [],
      "source": [
        "# https://github.com/albanda/CE888/tree/1e5bcbec6103c16b0457504d0d3e379b33e8276b/lab2%20-%20bootstrap"
      ]
    }
  ],
  "metadata": {
    "colab": {
      "collapsed_sections": [],
      "name": "Lab 2.ipynb",
      "provenance": [],
      "include_colab_link": true
    },
    "kernelspec": {
      "display_name": "Python 3 (ipykernel)",
      "language": "python",
      "name": "python3"
    },
    "language_info": {
      "codemirror_mode": {
        "name": "ipython",
        "version": 3
      },
      "file_extension": ".py",
      "mimetype": "text/x-python",
      "name": "python",
      "nbconvert_exporter": "python",
      "pygments_lexer": "ipython3",
      "version": "3.9.6"
    },
    "pycharm": {
      "stem_cell": {
        "cell_type": "raw",
        "metadata": {
          "collapsed": false
        },
        "source": []
      }
    }
  },
  "nbformat": 4,
  "nbformat_minor": 0
}