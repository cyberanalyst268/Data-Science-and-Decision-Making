{
  "cells": [
    {
      "cell_type": "markdown",
      "metadata": {
        "id": "view-in-github",
        "colab_type": "text"
      },
      "source": [
        "<a href=\"https://colab.research.google.com/github/cyberanalyst268/Data-Science-and-Decision-Making/blob/main/exploration/lab_exploration.ipynb\" target=\"_parent\"><img src=\"https://colab.research.google.com/assets/colab-badge.svg\" alt=\"Open In Colab\"/></a>"
      ]
    },
    {
      "cell_type": "code",
      "execution_count": 14,
      "metadata": {
        "id": "X8ESUl-E7Kzt"
      },
      "outputs": [],
      "source": [
        "%matplotlib inline\n",
        "import matplotlib\n",
        "import numpy as np\n",
        "import matplotlib.pyplot as plt\n",
        "import pandas as pd\n",
        "import seaborn as sns\n",
        "\n",
        "from sklearn.datasets import load_wine\n",
        "\n",
        "from sklearn.preprocessing import LabelEncoder, StandardScaler, OneHotEncoder\n",
        "from sklearn.decomposition import PCA\n",
        "from sklearn.cluster import KMeans\n",
        "from sklearn.metrics import silhouette_score"
      ]
    },
    {
      "cell_type": "markdown",
      "metadata": {
        "id": "VEiShHZj7K0Y"
      },
      "source": [
        "* We have loaded the necessary libraries above\n",
        "* Now let's load the data"
      ]
    },
    {
      "cell_type": "code",
      "execution_count": 23,
      "metadata": {
        "id": "U2xMQ41u7K0m",
        "colab": {
          "base_uri": "https://localhost:8080/",
          "height": 206
        },
        "outputId": "a0c9f0df-6158-4467-ed9b-63f3e8e83bc3"
      },
      "outputs": [
        {
          "output_type": "execute_result",
          "data": {
            "text/html": [
              "\n",
              "  <div id=\"df-94b21262-0171-49cb-9391-edf0d981381a\">\n",
              "    <div class=\"colab-df-container\">\n",
              "      <div>\n",
              "<style scoped>\n",
              "    .dataframe tbody tr th:only-of-type {\n",
              "        vertical-align: middle;\n",
              "    }\n",
              "\n",
              "    .dataframe tbody tr th {\n",
              "        vertical-align: top;\n",
              "    }\n",
              "\n",
              "    .dataframe thead th {\n",
              "        text-align: right;\n",
              "    }\n",
              "</style>\n",
              "<table border=\"1\" class=\"dataframe\">\n",
              "  <thead>\n",
              "    <tr style=\"text-align: right;\">\n",
              "      <th></th>\n",
              "      <th>alcohol</th>\n",
              "      <th>malic_acid</th>\n",
              "      <th>ash</th>\n",
              "      <th>alcalinity_of_ash</th>\n",
              "      <th>magnesium</th>\n",
              "      <th>total_phenols</th>\n",
              "      <th>flavanoids</th>\n",
              "      <th>nonflavanoid_phenols</th>\n",
              "      <th>proanthocyanins</th>\n",
              "      <th>color_intensity</th>\n",
              "      <th>hue</th>\n",
              "      <th>od280/od315_of_diluted_wines</th>\n",
              "      <th>proline</th>\n",
              "      <th>y</th>\n",
              "    </tr>\n",
              "  </thead>\n",
              "  <tbody>\n",
              "    <tr>\n",
              "      <th>0</th>\n",
              "      <td>14.23</td>\n",
              "      <td>1.71</td>\n",
              "      <td>2.43</td>\n",
              "      <td>15.6</td>\n",
              "      <td>127.0</td>\n",
              "      <td>2.80</td>\n",
              "      <td>3.06</td>\n",
              "      <td>0.28</td>\n",
              "      <td>2.29</td>\n",
              "      <td>5.64</td>\n",
              "      <td>1.04</td>\n",
              "      <td>3.92</td>\n",
              "      <td>1065.0</td>\n",
              "      <td>0</td>\n",
              "    </tr>\n",
              "    <tr>\n",
              "      <th>1</th>\n",
              "      <td>13.20</td>\n",
              "      <td>1.78</td>\n",
              "      <td>2.14</td>\n",
              "      <td>11.2</td>\n",
              "      <td>100.0</td>\n",
              "      <td>2.65</td>\n",
              "      <td>2.76</td>\n",
              "      <td>0.26</td>\n",
              "      <td>1.28</td>\n",
              "      <td>4.38</td>\n",
              "      <td>1.05</td>\n",
              "      <td>3.40</td>\n",
              "      <td>1050.0</td>\n",
              "      <td>0</td>\n",
              "    </tr>\n",
              "    <tr>\n",
              "      <th>2</th>\n",
              "      <td>13.16</td>\n",
              "      <td>2.36</td>\n",
              "      <td>2.67</td>\n",
              "      <td>18.6</td>\n",
              "      <td>101.0</td>\n",
              "      <td>2.80</td>\n",
              "      <td>3.24</td>\n",
              "      <td>0.30</td>\n",
              "      <td>2.81</td>\n",
              "      <td>5.68</td>\n",
              "      <td>1.03</td>\n",
              "      <td>3.17</td>\n",
              "      <td>1185.0</td>\n",
              "      <td>0</td>\n",
              "    </tr>\n",
              "    <tr>\n",
              "      <th>3</th>\n",
              "      <td>14.37</td>\n",
              "      <td>1.95</td>\n",
              "      <td>2.50</td>\n",
              "      <td>16.8</td>\n",
              "      <td>113.0</td>\n",
              "      <td>3.85</td>\n",
              "      <td>3.49</td>\n",
              "      <td>0.24</td>\n",
              "      <td>2.18</td>\n",
              "      <td>7.80</td>\n",
              "      <td>0.86</td>\n",
              "      <td>3.45</td>\n",
              "      <td>1480.0</td>\n",
              "      <td>0</td>\n",
              "    </tr>\n",
              "    <tr>\n",
              "      <th>4</th>\n",
              "      <td>13.24</td>\n",
              "      <td>2.59</td>\n",
              "      <td>2.87</td>\n",
              "      <td>21.0</td>\n",
              "      <td>118.0</td>\n",
              "      <td>2.80</td>\n",
              "      <td>2.69</td>\n",
              "      <td>0.39</td>\n",
              "      <td>1.82</td>\n",
              "      <td>4.32</td>\n",
              "      <td>1.04</td>\n",
              "      <td>2.93</td>\n",
              "      <td>735.0</td>\n",
              "      <td>0</td>\n",
              "    </tr>\n",
              "  </tbody>\n",
              "</table>\n",
              "</div>\n",
              "      <button class=\"colab-df-convert\" onclick=\"convertToInteractive('df-94b21262-0171-49cb-9391-edf0d981381a')\"\n",
              "              title=\"Convert this dataframe to an interactive table.\"\n",
              "              style=\"display:none;\">\n",
              "        \n",
              "  <svg xmlns=\"http://www.w3.org/2000/svg\" height=\"24px\"viewBox=\"0 0 24 24\"\n",
              "       width=\"24px\">\n",
              "    <path d=\"M0 0h24v24H0V0z\" fill=\"none\"/>\n",
              "    <path d=\"M18.56 5.44l.94 2.06.94-2.06 2.06-.94-2.06-.94-.94-2.06-.94 2.06-2.06.94zm-11 1L8.5 8.5l.94-2.06 2.06-.94-2.06-.94L8.5 2.5l-.94 2.06-2.06.94zm10 10l.94 2.06.94-2.06 2.06-.94-2.06-.94-.94-2.06-.94 2.06-2.06.94z\"/><path d=\"M17.41 7.96l-1.37-1.37c-.4-.4-.92-.59-1.43-.59-.52 0-1.04.2-1.43.59L10.3 9.45l-7.72 7.72c-.78.78-.78 2.05 0 2.83L4 21.41c.39.39.9.59 1.41.59.51 0 1.02-.2 1.41-.59l7.78-7.78 2.81-2.81c.8-.78.8-2.07 0-2.86zM5.41 20L4 18.59l7.72-7.72 1.47 1.35L5.41 20z\"/>\n",
              "  </svg>\n",
              "      </button>\n",
              "      \n",
              "  <style>\n",
              "    .colab-df-container {\n",
              "      display:flex;\n",
              "      flex-wrap:wrap;\n",
              "      gap: 12px;\n",
              "    }\n",
              "\n",
              "    .colab-df-convert {\n",
              "      background-color: #E8F0FE;\n",
              "      border: none;\n",
              "      border-radius: 50%;\n",
              "      cursor: pointer;\n",
              "      display: none;\n",
              "      fill: #1967D2;\n",
              "      height: 32px;\n",
              "      padding: 0 0 0 0;\n",
              "      width: 32px;\n",
              "    }\n",
              "\n",
              "    .colab-df-convert:hover {\n",
              "      background-color: #E2EBFA;\n",
              "      box-shadow: 0px 1px 2px rgba(60, 64, 67, 0.3), 0px 1px 3px 1px rgba(60, 64, 67, 0.15);\n",
              "      fill: #174EA6;\n",
              "    }\n",
              "\n",
              "    [theme=dark] .colab-df-convert {\n",
              "      background-color: #3B4455;\n",
              "      fill: #D2E3FC;\n",
              "    }\n",
              "\n",
              "    [theme=dark] .colab-df-convert:hover {\n",
              "      background-color: #434B5C;\n",
              "      box-shadow: 0px 1px 3px 1px rgba(0, 0, 0, 0.15);\n",
              "      filter: drop-shadow(0px 1px 2px rgba(0, 0, 0, 0.3));\n",
              "      fill: #FFFFFF;\n",
              "    }\n",
              "  </style>\n",
              "\n",
              "      <script>\n",
              "        const buttonEl =\n",
              "          document.querySelector('#df-94b21262-0171-49cb-9391-edf0d981381a button.colab-df-convert');\n",
              "        buttonEl.style.display =\n",
              "          google.colab.kernel.accessAllowed ? 'block' : 'none';\n",
              "\n",
              "        async function convertToInteractive(key) {\n",
              "          const element = document.querySelector('#df-94b21262-0171-49cb-9391-edf0d981381a');\n",
              "          const dataTable =\n",
              "            await google.colab.kernel.invokeFunction('convertToInteractive',\n",
              "                                                     [key], {});\n",
              "          if (!dataTable) return;\n",
              "\n",
              "          const docLinkHtml = 'Like what you see? Visit the ' +\n",
              "            '<a target=\"_blank\" href=https://colab.research.google.com/notebooks/data_table.ipynb>data table notebook</a>'\n",
              "            + ' to learn more about interactive tables.';\n",
              "          element.innerHTML = '';\n",
              "          dataTable['output_type'] = 'display_data';\n",
              "          await google.colab.output.renderOutput(dataTable, element);\n",
              "          const docLink = document.createElement('div');\n",
              "          docLink.innerHTML = docLinkHtml;\n",
              "          element.appendChild(docLink);\n",
              "        }\n",
              "      </script>\n",
              "    </div>\n",
              "  </div>\n",
              "  "
            ],
            "text/plain": [
              "   alcohol  malic_acid   ash  ...  od280/od315_of_diluted_wines  proline  y\n",
              "0    14.23        1.71  2.43  ...                          3.92   1065.0  0\n",
              "1    13.20        1.78  2.14  ...                          3.40   1050.0  0\n",
              "2    13.16        2.36  2.67  ...                          3.17   1185.0  0\n",
              "3    14.37        1.95  2.50  ...                          3.45   1480.0  0\n",
              "4    13.24        2.59  2.87  ...                          2.93    735.0  0\n",
              "\n",
              "[5 rows x 14 columns]"
            ]
          },
          "metadata": {},
          "execution_count": 23
        }
      ],
      "source": [
        "data = load_wine(as_frame=True)\n",
        "df = data.data.copy()  # features\n",
        "# Look at the documentation (https://scikit-learn.org/stable/modules/generated/sklearn.datasets.load_wine.html)\n",
        "# and save the label in a column called 'y' in df.\n",
        "df['y'] = data.target.copy()## YOUR CODE HERE # label\n",
        "df.head()"
      ]
    },
    {
      "cell_type": "code",
      "execution_count": 27,
      "metadata": {
        "id": "NKtLICR3iXZO",
        "colab": {
          "base_uri": "https://localhost:8080/"
        },
        "outputId": "54792efc-9369-4cb2-8c0c-68fed3cf545b"
      },
      "outputs": [
        {
          "output_type": "stream",
          "name": "stdout",
          "text": [
            "number of samples: 178 number of features: 13\n"
          ]
        }
      ],
      "source": [
        "#How many samples and features are there?\n",
        "\n",
        "# YOUR CODE HERE\n",
        "print('number of samples:', len(df), 'number of features:', len(df.columns) - 1)"
      ]
    },
    {
      "cell_type": "code",
      "execution_count": 31,
      "metadata": {
        "id": "nSweHdOBiXZP",
        "colab": {
          "base_uri": "https://localhost:8080/"
        },
        "outputId": "c012feb6-8479-45a8-c743-e199462748ec"
      },
      "outputs": [
        {
          "output_type": "execute_result",
          "data": {
            "text/plain": [
              "1    71\n",
              "0    59\n",
              "2    48\n",
              "Name: y, dtype: int64"
            ]
          },
          "metadata": {},
          "execution_count": 31
        }
      ],
      "source": [
        "# Quiz Q1\n",
        "# How many instances are there for each class? \n",
        "\n",
        "df['y'].value_counts()\n",
        "# YOUR CODE HERE\n"
      ]
    },
    {
      "cell_type": "code",
      "execution_count": 34,
      "metadata": {
        "id": "CNkl_UR3iXZQ",
        "colab": {
          "base_uri": "https://localhost:8080/",
          "height": 300
        },
        "outputId": "a4e4a225-31fb-43ed-8e4f-d22ac415a076"
      },
      "outputs": [
        {
          "output_type": "execute_result",
          "data": {
            "text/html": [
              "\n",
              "  <div id=\"df-f0892643-5f75-47ff-a738-b34bea1a8dc5\">\n",
              "    <div class=\"colab-df-container\">\n",
              "      <div>\n",
              "<style scoped>\n",
              "    .dataframe tbody tr th:only-of-type {\n",
              "        vertical-align: middle;\n",
              "    }\n",
              "\n",
              "    .dataframe tbody tr th {\n",
              "        vertical-align: top;\n",
              "    }\n",
              "\n",
              "    .dataframe thead th {\n",
              "        text-align: right;\n",
              "    }\n",
              "</style>\n",
              "<table border=\"1\" class=\"dataframe\">\n",
              "  <thead>\n",
              "    <tr style=\"text-align: right;\">\n",
              "      <th></th>\n",
              "      <th>alcohol</th>\n",
              "      <th>malic_acid</th>\n",
              "      <th>ash</th>\n",
              "      <th>alcalinity_of_ash</th>\n",
              "      <th>magnesium</th>\n",
              "      <th>total_phenols</th>\n",
              "      <th>flavanoids</th>\n",
              "      <th>nonflavanoid_phenols</th>\n",
              "      <th>proanthocyanins</th>\n",
              "      <th>color_intensity</th>\n",
              "      <th>hue</th>\n",
              "      <th>od280/od315_of_diluted_wines</th>\n",
              "      <th>proline</th>\n",
              "    </tr>\n",
              "  </thead>\n",
              "  <tbody>\n",
              "    <tr>\n",
              "      <th>count</th>\n",
              "      <td>178.000000</td>\n",
              "      <td>178.000000</td>\n",
              "      <td>178.000000</td>\n",
              "      <td>178.000000</td>\n",
              "      <td>178.000000</td>\n",
              "      <td>178.000000</td>\n",
              "      <td>178.000000</td>\n",
              "      <td>178.000000</td>\n",
              "      <td>178.000000</td>\n",
              "      <td>178.000000</td>\n",
              "      <td>178.000000</td>\n",
              "      <td>178.000000</td>\n",
              "      <td>178.000000</td>\n",
              "    </tr>\n",
              "    <tr>\n",
              "      <th>mean</th>\n",
              "      <td>13.000618</td>\n",
              "      <td>2.336348</td>\n",
              "      <td>2.366517</td>\n",
              "      <td>19.494944</td>\n",
              "      <td>99.741573</td>\n",
              "      <td>2.295112</td>\n",
              "      <td>2.029270</td>\n",
              "      <td>0.361854</td>\n",
              "      <td>1.590899</td>\n",
              "      <td>5.058090</td>\n",
              "      <td>0.957449</td>\n",
              "      <td>2.611685</td>\n",
              "      <td>746.893258</td>\n",
              "    </tr>\n",
              "    <tr>\n",
              "      <th>std</th>\n",
              "      <td>0.811827</td>\n",
              "      <td>1.117146</td>\n",
              "      <td>0.274344</td>\n",
              "      <td>3.339564</td>\n",
              "      <td>14.282484</td>\n",
              "      <td>0.625851</td>\n",
              "      <td>0.998859</td>\n",
              "      <td>0.124453</td>\n",
              "      <td>0.572359</td>\n",
              "      <td>2.318286</td>\n",
              "      <td>0.228572</td>\n",
              "      <td>0.709990</td>\n",
              "      <td>314.907474</td>\n",
              "    </tr>\n",
              "    <tr>\n",
              "      <th>min</th>\n",
              "      <td>11.030000</td>\n",
              "      <td>0.740000</td>\n",
              "      <td>1.360000</td>\n",
              "      <td>10.600000</td>\n",
              "      <td>70.000000</td>\n",
              "      <td>0.980000</td>\n",
              "      <td>0.340000</td>\n",
              "      <td>0.130000</td>\n",
              "      <td>0.410000</td>\n",
              "      <td>1.280000</td>\n",
              "      <td>0.480000</td>\n",
              "      <td>1.270000</td>\n",
              "      <td>278.000000</td>\n",
              "    </tr>\n",
              "    <tr>\n",
              "      <th>25%</th>\n",
              "      <td>12.362500</td>\n",
              "      <td>1.602500</td>\n",
              "      <td>2.210000</td>\n",
              "      <td>17.200000</td>\n",
              "      <td>88.000000</td>\n",
              "      <td>1.742500</td>\n",
              "      <td>1.205000</td>\n",
              "      <td>0.270000</td>\n",
              "      <td>1.250000</td>\n",
              "      <td>3.220000</td>\n",
              "      <td>0.782500</td>\n",
              "      <td>1.937500</td>\n",
              "      <td>500.500000</td>\n",
              "    </tr>\n",
              "    <tr>\n",
              "      <th>50%</th>\n",
              "      <td>13.050000</td>\n",
              "      <td>1.865000</td>\n",
              "      <td>2.360000</td>\n",
              "      <td>19.500000</td>\n",
              "      <td>98.000000</td>\n",
              "      <td>2.355000</td>\n",
              "      <td>2.135000</td>\n",
              "      <td>0.340000</td>\n",
              "      <td>1.555000</td>\n",
              "      <td>4.690000</td>\n",
              "      <td>0.965000</td>\n",
              "      <td>2.780000</td>\n",
              "      <td>673.500000</td>\n",
              "    </tr>\n",
              "    <tr>\n",
              "      <th>75%</th>\n",
              "      <td>13.677500</td>\n",
              "      <td>3.082500</td>\n",
              "      <td>2.557500</td>\n",
              "      <td>21.500000</td>\n",
              "      <td>107.000000</td>\n",
              "      <td>2.800000</td>\n",
              "      <td>2.875000</td>\n",
              "      <td>0.437500</td>\n",
              "      <td>1.950000</td>\n",
              "      <td>6.200000</td>\n",
              "      <td>1.120000</td>\n",
              "      <td>3.170000</td>\n",
              "      <td>985.000000</td>\n",
              "    </tr>\n",
              "    <tr>\n",
              "      <th>max</th>\n",
              "      <td>14.830000</td>\n",
              "      <td>5.800000</td>\n",
              "      <td>3.230000</td>\n",
              "      <td>30.000000</td>\n",
              "      <td>162.000000</td>\n",
              "      <td>3.880000</td>\n",
              "      <td>5.080000</td>\n",
              "      <td>0.660000</td>\n",
              "      <td>3.580000</td>\n",
              "      <td>13.000000</td>\n",
              "      <td>1.710000</td>\n",
              "      <td>4.000000</td>\n",
              "      <td>1680.000000</td>\n",
              "    </tr>\n",
              "  </tbody>\n",
              "</table>\n",
              "</div>\n",
              "      <button class=\"colab-df-convert\" onclick=\"convertToInteractive('df-f0892643-5f75-47ff-a738-b34bea1a8dc5')\"\n",
              "              title=\"Convert this dataframe to an interactive table.\"\n",
              "              style=\"display:none;\">\n",
              "        \n",
              "  <svg xmlns=\"http://www.w3.org/2000/svg\" height=\"24px\"viewBox=\"0 0 24 24\"\n",
              "       width=\"24px\">\n",
              "    <path d=\"M0 0h24v24H0V0z\" fill=\"none\"/>\n",
              "    <path d=\"M18.56 5.44l.94 2.06.94-2.06 2.06-.94-2.06-.94-.94-2.06-.94 2.06-2.06.94zm-11 1L8.5 8.5l.94-2.06 2.06-.94-2.06-.94L8.5 2.5l-.94 2.06-2.06.94zm10 10l.94 2.06.94-2.06 2.06-.94-2.06-.94-.94-2.06-.94 2.06-2.06.94z\"/><path d=\"M17.41 7.96l-1.37-1.37c-.4-.4-.92-.59-1.43-.59-.52 0-1.04.2-1.43.59L10.3 9.45l-7.72 7.72c-.78.78-.78 2.05 0 2.83L4 21.41c.39.39.9.59 1.41.59.51 0 1.02-.2 1.41-.59l7.78-7.78 2.81-2.81c.8-.78.8-2.07 0-2.86zM5.41 20L4 18.59l7.72-7.72 1.47 1.35L5.41 20z\"/>\n",
              "  </svg>\n",
              "      </button>\n",
              "      \n",
              "  <style>\n",
              "    .colab-df-container {\n",
              "      display:flex;\n",
              "      flex-wrap:wrap;\n",
              "      gap: 12px;\n",
              "    }\n",
              "\n",
              "    .colab-df-convert {\n",
              "      background-color: #E8F0FE;\n",
              "      border: none;\n",
              "      border-radius: 50%;\n",
              "      cursor: pointer;\n",
              "      display: none;\n",
              "      fill: #1967D2;\n",
              "      height: 32px;\n",
              "      padding: 0 0 0 0;\n",
              "      width: 32px;\n",
              "    }\n",
              "\n",
              "    .colab-df-convert:hover {\n",
              "      background-color: #E2EBFA;\n",
              "      box-shadow: 0px 1px 2px rgba(60, 64, 67, 0.3), 0px 1px 3px 1px rgba(60, 64, 67, 0.15);\n",
              "      fill: #174EA6;\n",
              "    }\n",
              "\n",
              "    [theme=dark] .colab-df-convert {\n",
              "      background-color: #3B4455;\n",
              "      fill: #D2E3FC;\n",
              "    }\n",
              "\n",
              "    [theme=dark] .colab-df-convert:hover {\n",
              "      background-color: #434B5C;\n",
              "      box-shadow: 0px 1px 3px 1px rgba(0, 0, 0, 0.15);\n",
              "      filter: drop-shadow(0px 1px 2px rgba(0, 0, 0, 0.3));\n",
              "      fill: #FFFFFF;\n",
              "    }\n",
              "  </style>\n",
              "\n",
              "      <script>\n",
              "        const buttonEl =\n",
              "          document.querySelector('#df-f0892643-5f75-47ff-a738-b34bea1a8dc5 button.colab-df-convert');\n",
              "        buttonEl.style.display =\n",
              "          google.colab.kernel.accessAllowed ? 'block' : 'none';\n",
              "\n",
              "        async function convertToInteractive(key) {\n",
              "          const element = document.querySelector('#df-f0892643-5f75-47ff-a738-b34bea1a8dc5');\n",
              "          const dataTable =\n",
              "            await google.colab.kernel.invokeFunction('convertToInteractive',\n",
              "                                                     [key], {});\n",
              "          if (!dataTable) return;\n",
              "\n",
              "          const docLinkHtml = 'Like what you see? Visit the ' +\n",
              "            '<a target=\"_blank\" href=https://colab.research.google.com/notebooks/data_table.ipynb>data table notebook</a>'\n",
              "            + ' to learn more about interactive tables.';\n",
              "          element.innerHTML = '';\n",
              "          dataTable['output_type'] = 'display_data';\n",
              "          await google.colab.output.renderOutput(dataTable, element);\n",
              "          const docLink = document.createElement('div');\n",
              "          docLink.innerHTML = docLinkHtml;\n",
              "          element.appendChild(docLink);\n",
              "        }\n",
              "      </script>\n",
              "    </div>\n",
              "  </div>\n",
              "  "
            ],
            "text/plain": [
              "          alcohol  malic_acid  ...  od280/od315_of_diluted_wines      proline\n",
              "count  178.000000  178.000000  ...                    178.000000   178.000000\n",
              "mean    13.000618    2.336348  ...                      2.611685   746.893258\n",
              "std      0.811827    1.117146  ...                      0.709990   314.907474\n",
              "min     11.030000    0.740000  ...                      1.270000   278.000000\n",
              "25%     12.362500    1.602500  ...                      1.937500   500.500000\n",
              "50%     13.050000    1.865000  ...                      2.780000   673.500000\n",
              "75%     13.677500    3.082500  ...                      3.170000   985.000000\n",
              "max     14.830000    5.800000  ...                      4.000000  1680.000000\n",
              "\n",
              "[8 rows x 13 columns]"
            ]
          },
          "metadata": {},
          "execution_count": 34
        }
      ],
      "source": [
        "# Calculate the means, medians, and standard deviations of each feature\n",
        "\n",
        "df.iloc[:, :-1].describe()\n",
        "# YOUR CODE HERE"
      ]
    },
    {
      "cell_type": "code",
      "execution_count": 37,
      "metadata": {
        "id": "knoslC7IiXZR",
        "colab": {
          "base_uri": "https://localhost:8080/",
          "height": 286
        },
        "outputId": "65cd1270-334e-4aff-99b4-02c687bfd5d0"
      },
      "outputs": [
        {
          "output_type": "execute_result",
          "data": {
            "text/plain": [
              "<matplotlib.axes._subplots.AxesSubplot at 0x7fdca5ed8d10>"
            ]
          },
          "metadata": {},
          "execution_count": 37
        },
        {
          "output_type": "display_data",
          "data": {
            "image/png": "[encoded data removed]",
            "text/plain": [
              "<Figure size 432x288 with 1 Axes>"
            ]
          },
          "metadata": {
            "needs_background": "light"
          }
        }
      ],
      "source": [
        "# Plot a boxplot of each feature (NOT THE LABEL!!) (all in one plot -- you can do this with a single line of code).\n",
        "# Quiz Q2: Is there any feature that is in a clearly different scale than the others?\n",
        "\n",
        "# YOUR CODE HERE\n",
        "df.boxplot()"
      ]
    },
    {
      "cell_type": "code",
      "execution_count": 38,
      "metadata": {
        "scrolled": false,
        "id": "TPtp2IZKiXZS",
        "colab": {
          "base_uri": "https://localhost:8080/",
          "height": 576
        },
        "outputId": "d6236295-350e-4f12-eb4f-5a71c8bf9f4d"
      },
      "outputs": [
        {
          "output_type": "execute_result",
          "data": {
            "text/plain": [
              "array([[<matplotlib.axes._subplots.AxesSubplot object at 0x7fdca5d0c7d0>,\n",
              "        <matplotlib.axes._subplots.AxesSubplot object at 0x7fdca5d32810>,\n",
              "        <matplotlib.axes._subplots.AxesSubplot object at 0x7fdca5c9ca10>,\n",
              "        <matplotlib.axes._subplots.AxesSubplot object at 0x7fdca5c51fd0>],\n",
              "       [<matplotlib.axes._subplots.AxesSubplot object at 0x7fdca5c14650>,\n",
              "        <matplotlib.axes._subplots.AxesSubplot object at 0x7fdca5c3ab10>,\n",
              "        <matplotlib.axes._subplots.AxesSubplot object at 0x7fdca5c08590>,\n",
              "        <matplotlib.axes._subplots.AxesSubplot object at 0x7fdca5bc09d0>],\n",
              "       [<matplotlib.axes._subplots.AxesSubplot object at 0x7fdca5bc0a10>,\n",
              "        <matplotlib.axes._subplots.AxesSubplot object at 0x7fdca5b82050>,\n",
              "        <matplotlib.axes._subplots.AxesSubplot object at 0x7fdca5af1950>,\n",
              "        <matplotlib.axes._subplots.AxesSubplot object at 0x7fdca5aa6e50>],\n",
              "       [<matplotlib.axes._subplots.AxesSubplot object at 0x7fdca5a6a390>,\n",
              "        <matplotlib.axes._subplots.AxesSubplot object at 0x7fdca5a20890>,\n",
              "        <matplotlib.axes._subplots.AxesSubplot object at 0x7fdca59d6d90>,\n",
              "        <matplotlib.axes._subplots.AxesSubplot object at 0x7fdca59982d0>]],\n",
              "      dtype=object)"
            ]
          },
          "metadata": {},
          "execution_count": 38
        },
        {
          "output_type": "display_data",
          "data": {
            "image/png": "[encoded data removed]",
            "text/plain": [
              "<Figure size 432x288 with 16 Axes>"
            ]
          },
          "metadata": {
            "needs_background": "light"
          }
        }
      ],
      "source": [
        "# Let's look at the distributions of values of our features. Draw a histogram for each of the features\n",
        "\n",
        "# YOUR CODE HERE\n",
        "df.hist()"
      ]
    },
    {
      "cell_type": "markdown",
      "metadata": {
        "id": "vpirxqr9iXZT"
      },
      "source": [
        "Let's do some multivariate analysis"
      ]
    },
    {
      "cell_type": "code",
      "execution_count": 42,
      "metadata": {
        "id": "fwLc3RDdiXZU",
        "colab": {
          "base_uri": "https://localhost:8080/",
          "height": 414
        },
        "outputId": "82439034-f775-45cc-9e3e-4cd61fb7ff46"
      },
      "outputs": [
        {
          "output_type": "display_data",
          "data": {
            "image/png": "[encoded data removed]",
            "text/plain": [
              "<Figure size 432x288 with 2 Axes>"
            ]
          },
          "metadata": {
            "needs_background": "light"
          }
        }
      ],
      "source": [
        "from numpy.lib.function_base import corrcoef\n",
        "# Calculate the correlations between each pair of variables\n",
        "\n",
        "# YOUR CODE HERE\n",
        "np.corrcoef(df)\n",
        "\n",
        "# Plot a heatmap of the correlations between pairs of FEATURES (i.e., don't include the target!)\n",
        "\n",
        "# YOUR CODE HERE\n",
        "sns.heatmap(df.corr());"
      ]
    },
    {
      "cell_type": "code",
      "execution_count": 74,
      "metadata": {
        "id": "AQ326VVsiXZW",
        "colab": {
          "base_uri": "https://localhost:8080/",
          "height": 648
        },
        "outputId": "659d5f29-4e1d-4f74-e4c3-150aba742ef1"
      },
      "outputs": [
        {
          "output_type": "execute_result",
          "data": {
            "text/plain": [
              "<matplotlib.axes._subplots.AxesSubplot at 0x7fdca0f52ed0>"
            ]
          },
          "metadata": {},
          "execution_count": 74
        },
        {
          "output_type": "display_data",
          "data": {
            "image/png": "[encoded data removed]",
            "text/plain": [
              "<Figure size 864x576 with 2 Axes>"
            ]
          },
          "metadata": {
            "needs_background": "light"
          }
        }
      ],
      "source": [
        "\n",
        "# What is the highest correlation between features?\n",
        "dfx = df.drop(['y'],axis=1)\n",
        "corr = dfx.corr()\n",
        "kot = corr[corr>=.6]\n",
        "plt.figure(figsize=(12,8))\n",
        "sns.heatmap(kot, cmap=\"Reds\")\n",
        "\n",
        "\n",
        "\n"
      ]
    },
    {
      "cell_type": "markdown",
      "source": [
        "You should have noticed that some of the features are highly correlated. \n",
        "\n",
        "For this reason, we can run into trouble when trying to train a classifier due to multicolinearity.\n",
        "\n",
        "Let's do PCA on this dataset to remove these correlations"
      ],
      "metadata": {
        "id": "SWjkbzTWi5Ns"
      }
    },
    {
      "cell_type": "code",
      "execution_count": 80,
      "metadata": {
        "id": "akqk41SwiXZX",
        "colab": {
          "base_uri": "https://localhost:8080/"
        },
        "outputId": "5ee363c3-e1ff-4a21-9ebd-e93ee3d59a5e"
      },
      "outputs": [
        {
          "output_type": "stream",
          "name": "stdout",
          "text": [
            "[[ 1.51861254 -0.5622498   0.23205254 ...  0.36217728  1.84791957\n",
            "   1.01300893]\n",
            " [ 0.24628963 -0.49941338 -0.82799632 ...  0.40605066  1.1134493\n",
            "   0.96524152]\n",
            " [ 0.19687903  0.02123125  1.10933436 ...  0.31830389  0.78858745\n",
            "   1.39514818]\n",
            " ...\n",
            " [ 0.33275817  1.74474449 -0.38935541 ... -1.61212515 -1.48544548\n",
            "   0.28057537]\n",
            " [ 0.20923168  0.22769377  0.01273209 ... -1.56825176 -1.40069891\n",
            "   0.29649784]\n",
            " [ 1.39508604  1.58316512  1.36520822 ... -1.52437837 -1.42894777\n",
            "  -0.59516041]]\n",
            "[[ 3.31675081 -1.44346263]\n",
            " [ 2.20946492  0.33339289]\n",
            " [ 2.51674015 -1.0311513 ]\n",
            " [ 3.75706561 -2.75637191]\n",
            " [ 1.00890849 -0.86983082]\n",
            " [ 3.05025392 -2.12240111]\n",
            " [ 2.44908967 -1.17485013]\n",
            " [ 2.05943687 -1.60896307]\n",
            " [ 2.5108743  -0.91807096]\n",
            " [ 2.75362819 -0.78943767]\n",
            " [ 3.47973668 -1.30233324]\n",
            " [ 1.7547529  -0.61197723]\n",
            " [ 2.11346234 -0.67570634]\n",
            " [ 3.45815682 -1.13062988]\n",
            " [ 4.31278391 -2.09597558]\n",
            " [ 2.3051882  -1.66255173]\n",
            " [ 2.17195527 -2.32730534]\n",
            " [ 1.89897118 -1.63136888]\n",
            " [ 3.54198508 -2.51834367]\n",
            " [ 2.0845222  -1.06113799]\n",
            " [ 3.12440254 -0.78689711]\n",
            " [ 1.08657007 -0.24174355]\n",
            " [ 2.53522408  0.09184062]\n",
            " [ 1.64498834  0.51627893]\n",
            " [ 1.76157587  0.31714893]\n",
            " [ 0.9900791  -0.94066734]\n",
            " [ 1.77527763 -0.68617513]\n",
            " [ 1.23542396  0.08980704]\n",
            " [ 2.18840633 -0.68956962]\n",
            " [ 2.25610898 -0.19146194]\n",
            " [ 2.50022003 -1.24083383]\n",
            " [ 2.67741105 -1.47187365]\n",
            " [ 1.62857912 -0.05270445]\n",
            " [ 1.90269086 -1.63306043]\n",
            " [ 1.41038853 -0.69793432]\n",
            " [ 1.90382623 -0.17671095]\n",
            " [ 1.38486223 -0.65863985]\n",
            " [ 1.12220741 -0.11410976]\n",
            " [ 1.5021945   0.76943201]\n",
            " [ 2.52980109 -1.80300198]\n",
            " [ 2.58809543 -0.7796163 ]\n",
            " [ 0.66848199 -0.16996094]\n",
            " [ 3.07080699 -1.15591896]\n",
            " [ 0.46220914 -0.33074213]\n",
            " [ 2.10135193  0.07100892]\n",
            " [ 1.13616618 -1.77710739]\n",
            " [ 2.72660096 -1.19133469]\n",
            " [ 2.82133927 -0.6462586 ]\n",
            " [ 2.00985085 -1.24702946]\n",
            " [ 2.7074913  -1.75196741]\n",
            " [ 3.21491747 -0.16699199]\n",
            " [ 2.85895983 -0.7452788 ]\n",
            " [ 3.50560436 -1.61273386]\n",
            " [ 2.22479138 -1.875168  ]\n",
            " [ 2.14698782 -1.01675154]\n",
            " [ 2.46932948 -1.32900831]\n",
            " [ 2.74151791 -1.43654878]\n",
            " [ 2.17374092 -1.21219984]\n",
            " [ 3.13938015 -1.73157912]\n",
            " [-0.92858197  3.07348616]\n",
            " [-1.54248014  1.38144351]\n",
            " [-1.83624976  0.82998412]\n",
            " [ 0.03060683  1.26278614]\n",
            " [ 2.05026161  1.9250326 ]\n",
            " [-0.60968083  1.90805881]\n",
            " [ 0.90022784  0.76391147]\n",
            " [ 2.24850719  1.88459248]\n",
            " [ 0.18338403  2.42714611]\n",
            " [-0.81280503  0.22051399]\n",
            " [ 1.9756205   1.40328323]\n",
            " [-1.57221622  0.88498314]\n",
            " [ 1.65768181  0.9567122 ]\n",
            " [-0.72537239  1.0636454 ]\n",
            " [ 2.56222717 -0.26019855]\n",
            " [ 1.83256757  1.2878782 ]\n",
            " [-0.8679929   2.44410119]\n",
            " [ 0.3700144   2.15390698]\n",
            " [-1.45737704  1.38335177]\n",
            " [ 1.26293085  0.77084953]\n",
            " [ 0.37615037  1.0270434 ]\n",
            " [ 0.7620639   3.37505381]\n",
            " [ 1.03457797  1.45070974]\n",
            " [-0.49487676  2.38124353]\n",
            " [-2.53897708  0.08744336]\n",
            " [ 0.83532015  1.47367055]\n",
            " [ 0.78790461  2.02662652]\n",
            " [-0.80683216  2.23383039]\n",
            " [-0.55804262  2.37298543]\n",
            " [-1.11511104  1.80224719]\n",
            " [-0.55572283  2.65754004]\n",
            " [-1.34928528  2.11800147]\n",
            " [-1.56448261  1.85221452]\n",
            " [-1.93255561  1.55949546]\n",
            " [ 0.74666594  2.31293171]\n",
            " [ 0.95745536  2.22352843]\n",
            " [ 2.54386518 -0.16927402]\n",
            " [-0.54395259  0.36892655]\n",
            " [ 1.03104975  2.56556935]\n",
            " [ 2.25190942  1.43274138]\n",
            " [ 1.41021602  2.16619177]\n",
            " [ 0.79771979  2.3769488 ]\n",
            " [-0.54953173  2.29312864]\n",
            " [-0.16117374  1.16448332]\n",
            " [-0.65979494  2.67996119]\n",
            " [ 0.39235441  2.09873171]\n",
            " [-1.77249908  1.71728847]\n",
            " [-0.36626736  2.1693533 ]\n",
            " [-1.62067257  1.35558339]\n",
            " [ 0.08253578  2.30623459]\n",
            " [ 1.57827507  1.46203429]\n",
            " [ 1.42056925  1.41820664]\n",
            " [-0.27870275  1.93056809]\n",
            " [-1.30314497  0.76317231]\n",
            " [-0.45707187  2.26941561]\n",
            " [-0.49418585  1.93904505]\n",
            " [ 0.48207441  3.87178385]\n",
            " [-0.25288888  2.82149237]\n",
            " [-0.10722764  1.92892204]\n",
            " [-2.4330126   1.25714104]\n",
            " [-0.55108954  2.22216155]\n",
            " [ 0.73962193  1.40895667]\n",
            " [ 1.33632173 -0.25333693]\n",
            " [-1.177087    0.66396684]\n",
            " [-0.46233501  0.61828818]\n",
            " [ 0.97847408  1.4455705 ]\n",
            " [-0.09680973  2.10999799]\n",
            " [ 0.03848715  1.26676211]\n",
            " [-1.5971585   1.20814357]\n",
            " [-0.47956492  1.93884066]\n",
            " [-1.79283347  1.1502881 ]\n",
            " [-1.32710166 -0.17038923]\n",
            " [-2.38450083 -0.37458261]\n",
            " [-2.9369401  -0.26386183]\n",
            " [-2.14681113 -0.36825495]\n",
            " [-2.36986949  0.45963481]\n",
            " [-3.06384157 -0.35341284]\n",
            " [-3.91575378 -0.15458252]\n",
            " [-3.93646339 -0.65968723]\n",
            " [-3.09427612 -0.34884276]\n",
            " [-2.37447163 -0.29198035]\n",
            " [-2.77881295 -0.28680487]\n",
            " [-2.28656128 -0.37250784]\n",
            " [-2.98563349 -0.48921791]\n",
            " [-2.3751947  -0.48233372]\n",
            " [-2.20986553 -1.1600525 ]\n",
            " [-2.625621   -0.56316076]\n",
            " [-4.28063878 -0.64967096]\n",
            " [-3.58264137 -1.27270275]\n",
            " [-2.80706372 -1.57053379]\n",
            " [-2.89965933 -2.04105701]\n",
            " [-2.32073698 -2.35636608]\n",
            " [-2.54983095 -2.04528309]\n",
            " [-1.81254128 -1.52764595]\n",
            " [-2.76014464 -2.13893235]\n",
            " [-2.7371505  -0.40988627]\n",
            " [-3.60486887 -1.80238422]\n",
            " [-2.889826   -1.92521861]\n",
            " [-3.39215608 -1.31187639]\n",
            " [-1.0481819  -3.51508969]\n",
            " [-1.60991228 -2.40663816]\n",
            " [-3.14313097 -0.73816104]\n",
            " [-2.2401569  -1.17546529]\n",
            " [-2.84767378 -0.55604397]\n",
            " [-2.59749706 -0.69796554]\n",
            " [-2.94929937 -1.55530896]\n",
            " [-3.53003227 -0.8825268 ]\n",
            " [-2.40611054 -2.59235618]\n",
            " [-2.92908473 -1.27444695]\n",
            " [-2.18141278 -2.07753731]\n",
            " [-2.38092779 -2.58866743]\n",
            " [-3.21161722  0.2512491 ]\n",
            " [-3.67791872 -0.84774784]\n",
            " [-2.4655558  -2.1937983 ]\n",
            " [-3.37052415 -2.21628914]\n",
            " [-2.60195585 -1.75722935]\n",
            " [-2.67783946 -2.76089913]\n",
            " [-2.38701709 -2.29734668]\n",
            " [-3.20875816 -2.76891957]]\n"
          ]
        }
      ],
      "source": [
        "# Let's do PCA:\n",
        "\n",
        "# HINT: I suggest you attempt Q5 of the quiz and then use the function you developed\n",
        "#       in this and some of the following cells.\n",
        "\n",
        "# 1. Standardise your data using a StandardScaler. Make sure you're not scaling the 'y'!\n",
        "\n",
        "# YOUR CODE HERE\n",
        "scaler = StandardScaler()\n",
        "scaler_result = scaler.fit_transform(dfx)\n",
        "print(scaler_result)\n",
        "\n",
        "# 2. Do PCA with 2 components. How much variance is retained from the original dataset?\n",
        "\n",
        "# YOUR CODE HERE\n",
        "pca = PCA(n_components=2, svd_solver='full')\n",
        "pca_result = pca.fit_transform(scaler_result)\n",
        "print(pca_result)\n",
        "\n"
      ]
    },
    {
      "cell_type": "code",
      "execution_count": null,
      "metadata": {
        "id": "k7kjv4WHiXZY"
      },
      "outputs": [],
      "source": [
        "# Plot your two components, using the label from the data to colour the points\n",
        "\n",
        "# YOUR CODE HERE\n",
        "\n"
      ]
    },
    {
      "cell_type": "code",
      "execution_count": null,
      "metadata": {
        "id": "bNpetshyiXZZ"
      },
      "outputs": [],
      "source": [
        "# How many components do you need to keep at least 85% of the variance in the dataset? (Q6)\n",
        "\n",
        "# YOUR CODE HERE\n"
      ]
    },
    {
      "cell_type": "code",
      "execution_count": null,
      "metadata": {
        "id": "k1eDhjN1iXZY"
      },
      "outputs": [],
      "source": [
        "# How much variance is retained if we do PCA with 3 components? (Q7)\n",
        "\n",
        "# YOUR CODE HERE\n"
      ]
    },
    {
      "cell_type": "markdown",
      "metadata": {
        "id": "AvdemHgZiXZZ"
      },
      "source": [
        "## Clustering"
      ]
    },
    {
      "cell_type": "markdown",
      "metadata": {
        "id": "7QTjJP_h7K3N"
      },
      "source": [
        "Let's see how many clusters does K-Means find.\n",
        "\n"
      ]
    },
    {
      "cell_type": "code",
      "execution_count": null,
      "metadata": {
        "id": "JNDEKVYHybim"
      },
      "outputs": [],
      "source": [
        "# Use the elbow method to select the number of clusters in your data using 3 PCs.\n",
        "\n",
        "# YOUR CODE HERE\n"
      ]
    },
    {
      "cell_type": "code",
      "execution_count": null,
      "metadata": {
        "id": "anQy-uCZiXZa"
      },
      "outputs": [],
      "source": [
        "# Now use the silhouette score to choose between the two candidate k values from the previous cell\n",
        "\n",
        "# YOUR CODE HERE\n"
      ]
    },
    {
      "cell_type": "code",
      "execution_count": null,
      "metadata": {
        "id": "YGItp0Vh7K2_"
      },
      "outputs": [],
      "source": [
        "# Visualise the first two pcs (using a scatterplot) using the labels from KMeans with your chosen value of k\n",
        "\n",
        "# YOUR CODE HERE\n"
      ]
    },
    {
      "cell_type": "markdown",
      "metadata": {
        "id": "MVVu-IUPiXZb"
      },
      "source": [
        "Now we can try to understand our clusters."
      ]
    },
    {
      "cell_type": "code",
      "execution_count": null,
      "metadata": {
        "id": "KvaUMdbB9HWK"
      },
      "outputs": [],
      "source": [
        "# In the original (before PCA and before standardisation) dataframe, add a column called 'cluster' that contains\n",
        "# the cluster assignment from above\n",
        "\n",
        "# YOUR CODE HERE\n"
      ]
    },
    {
      "cell_type": "code",
      "execution_count": null,
      "metadata": {
        "id": "Q4J3swJhiXZc"
      },
      "outputs": [],
      "source": [
        "# Do a boxplot of each feature, separating between clusters\n",
        "\n",
        "# YOUR CODE HERE\n"
      ]
    },
    {
      "cell_type": "markdown",
      "metadata": {
        "id": "XQlOvB_2iXZc"
      },
      "source": [
        "Write your observations here.\n",
        "For example: is there a clear difference between the clusters in terms of alcohol content? What about flavanoids?"
      ]
    },
    {
      "cell_type": "code",
      "execution_count": null,
      "metadata": {
        "id": "Eo6Y4Z5jiXZc"
      },
      "outputs": [],
      "source": [
        "# Feel free to keep playing with the data here!"
      ]
    }
  ],
  "metadata": {
    "colab": {
      "name": "exploration.ipynb",
      "provenance": [],
      "collapsed_sections": [],
      "include_colab_link": true
    },
    "kernelspec": {
      "display_name": "Python 3",
      "language": "python",
      "name": "python3"
    },
    "language_info": {
      "codemirror_mode": {
        "name": "ipython",
        "version": 3
      },
      "file_extension": ".py",
      "mimetype": "text/x-python",
      "name": "python",
      "nbconvert_exporter": "python",
      "pygments_lexer": "ipython3",
      "version": "3.7.10"
    }
  },
  "nbformat": 4,
  "nbformat_minor": 0
}