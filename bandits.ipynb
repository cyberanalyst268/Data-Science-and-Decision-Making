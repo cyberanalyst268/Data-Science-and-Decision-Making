{
  "nbformat": 4,
  "nbformat_minor": 0,
  "metadata": {
    "kernelspec": {
      "display_name": "Python 3",
      "language": "python",
      "name": "python3"
    },
    "language_info": {
      "codemirror_mode": {
        "name": "ipython",
        "version": 3
      },
      "file_extension": ".py",
      "mimetype": "text/x-python",
      "name": "python",
      "nbconvert_exporter": "python",
      "pygments_lexer": "ipython3",
      "version": "3.7.6"
    },
    "colab": {
      "name": "bandits.ipynb",
      "provenance": [],
      "include_colab_link": true
    }
  },
  "cells": [
    {
      "cell_type": "markdown",
      "metadata": {
        "id": "view-in-github",
        "colab_type": "text"
      },
      "source": [
        "<a href=\"https://colab.research.google.com/github/cyberanalyst268/Data-Science-and-Decision-Making/blob/main/bandits.ipynb\" target=\"_parent\"><img src=\"https://colab.research.google.com/assets/colab-badge.svg\" alt=\"Open In Colab\"/></a>"
      ]
    },
    {
      "cell_type": "code",
      "metadata": {
        "id": "G_ohAqyeAWh5"
      },
      "source": [
        "import numpy as np\n",
        "import matplotlib.pyplot as plt"
      ],
      "execution_count": 1,
      "outputs": []
    },
    {
      "cell_type": "code",
      "metadata": {
        "id": "NyfMa-ZzAWia"
      },
      "source": [
        "# Define our actions\n",
        "\n",
        "def action_0():\n",
        "    return np.random.choice([1, 0], p=[0.5, 0.5])\n",
        "\n",
        "def action_1():\n",
        "    return np.random.choice([1, 0], p=[0.6, 0.4])\n",
        "\n",
        "def action_2():\n",
        "    return np.random.choice([1, 0], p=[0.2, 0.8])\n",
        "\n",
        "rewards = [action_0, action_1, action_2]"
      ],
      "execution_count": 2,
      "outputs": []
    },
    {
      "cell_type": "code",
      "metadata": {
        "colab": {
          "base_uri": "https://localhost:8080/"
        },
        "id": "8OMYEfKiAWig",
        "outputId": "d63f4804-12a8-43bd-8631-7b0be2b6a9e0"
      },
      "source": [
        "for i in range(10):\n",
        "    print('Pull %d (action_0): reward=%d' % (i, rewards[0]()))"
      ],
      "execution_count": 3,
      "outputs": [
        {
          "output_type": "stream",
          "name": "stdout",
          "text": [
            "Pull 0 (action_0): reward=0\n",
            "Pull 1 (action_0): reward=1\n",
            "Pull 2 (action_0): reward=0\n",
            "Pull 3 (action_0): reward=1\n",
            "Pull 4 (action_0): reward=0\n",
            "Pull 5 (action_0): reward=1\n",
            "Pull 6 (action_0): reward=1\n",
            "Pull 7 (action_0): reward=0\n",
            "Pull 8 (action_0): reward=0\n",
            "Pull 9 (action_0): reward=1\n"
          ]
        }
      ]
    },
    {
      "cell_type": "code",
      "metadata": {
        "colab": {
          "base_uri": "https://localhost:8080/"
        },
        "id": "VVjefuf9AWip",
        "outputId": "3f21e0fb-e9aa-4ed0-f580-352a9324c19f"
      },
      "source": [
        "# Simulate action values (Q): expected reward for each action\n",
        "pulls = 100000\n",
        "\n",
        "action_values = []\n",
        "for reward in rewards:\n",
        "    value = [reward() for _ in range(pulls)]  # execute each of the actions 'pulls' times\n",
        "    action_values.append(value)\n",
        "\n",
        "for action, value in enumerate(action_values):\n",
        "    print(\"Action %d: Q(a_%d)=%.2f\" % (action, action, np.mean(value)))"
      ],
      "execution_count": 4,
      "outputs": [
        {
          "output_type": "stream",
          "name": "stdout",
          "text": [
            "Action 0: Q(a_0)=0.50\n",
            "Action 1: Q(a_1)=0.60\n",
            "Action 2: Q(a_2)=0.20\n"
          ]
        }
      ]
    },
    {
      "cell_type": "code",
      "metadata": {
        "id": "6wY2EchRAWiu"
      },
      "source": [
        "# To simulate the values (V), we need to define a policy\n",
        "# (Value is the expected reward given the policy I'm following)\n",
        "\n",
        "# Define a policy:\n",
        "def policy_random():\n",
        "    '''Returns which action to perform using equal probabilities for each action'''\n",
        "    return np.random.choice([0, 1, 2], p=[1/3, 1/3, 1/3])\n",
        "\n",
        "\n",
        "def policy_better():\n",
        "    ''' A better policy than random: we choose actions 0 and 1 more often than action 2'''\n",
        "    return np.random.choice([0, 1, 2], p=[0.4, 0.5, 0.1])\n"
      ],
      "execution_count": 5,
      "outputs": []
    },
    {
      "cell_type": "code",
      "metadata": {
        "colab": {
          "base_uri": "https://localhost:8080/"
        },
        "id": "Qn70-2BnAWiy",
        "outputId": "f68b990c-f2cd-4c3f-ba92-c8370177045b"
      },
      "source": [
        "# Simulate Values using the random policy\n",
        "total_reward = 0\n",
        "for pull in range(pulls):\n",
        "    action = policy_random()\n",
        "    total_reward += rewards[action]()\n",
        "print(\"Total reward =\", total_reward)\n",
        "print(\"Average reward: V =\", total_reward/pulls)"
      ],
      "execution_count": 6,
      "outputs": [
        {
          "output_type": "stream",
          "name": "stdout",
          "text": [
            "Total reward = 43395\n",
            "Average reward: V = 0.43395\n"
          ]
        }
      ]
    },
    {
      "cell_type": "code",
      "metadata": {
        "colab": {
          "base_uri": "https://localhost:8080/"
        },
        "id": "_-6gLUeWAWi3",
        "outputId": "4fc4fb09-2dc9-4bd2-a8c9-7f59e5bf6d8f"
      },
      "source": [
        "# Simulate Values using the better policy\n",
        "total_reward = 0\n",
        "for pull in range(pulls):\n",
        "    action = policy_better()\n",
        "    total_reward += rewards[action]()\n",
        "print(\"Total reward =\", total_reward)\n",
        "print(\"Average reward: V =\", total_reward/pulls)"
      ],
      "execution_count": 7,
      "outputs": [
        {
          "output_type": "stream",
          "name": "stdout",
          "text": [
            "Total reward = 51818\n",
            "Average reward: V = 0.51818\n"
          ]
        }
      ]
    },
    {
      "cell_type": "code",
      "metadata": {
        "colab": {
          "base_uri": "https://localhost:8080/"
        },
        "id": "vML7aYcDAWi6",
        "outputId": "27e7e84b-7894-4c86-f371-185132382ac3"
      },
      "source": [
        "# Regret of the better policy\n",
        "V_star = max([np.mean(value) for value in action_values])\n",
        "print(\"V* =\", V_star)\n",
        "\n",
        "total_regret = 0\n",
        "for pull in range(pulls):\n",
        "    total_regret += (V_star - rewards[policy_better()]())\n",
        "print('Regret: I_t = %.2f' % (total_regret/pulls))"
      ],
      "execution_count": 8,
      "outputs": [
        {
          "output_type": "stream",
          "name": "stdout",
          "text": [
            "V* = 0.6026\n",
            "Regret: I_t = 0.08\n"
          ]
        }
      ]
    },
    {
      "cell_type": "code",
      "metadata": {
        "id": "pkhEOOz8AWi_"
      },
      "source": [
        "# Some bandit policies to explore:\n",
        "\n",
        "def policy_greedy(action_values):\n",
        "    '''Always returns the action for which the payoff is highest'''\n",
        "    best_action = np.argmax([np.mean(value) for value in action_values])\n",
        "    return best_action\n",
        "\n",
        "\n",
        "def policy_e_greedy(action_values, epsilon=0.05):\n",
        "    '''We explore with epsilon probability, and choose the best action the rest of the time'''\n",
        "    explore = np.random.choice([1, 0], p=[epsilon, 1-epsilon])\n",
        "    if explore:\n",
        "        # Random action\n",
        "        return policy_random()\n",
        "    else:\n",
        "        # Choose best action\n",
        "        return policy_greedy(action_values)\n",
        "\n"
      ],
      "execution_count": 9,
      "outputs": []
    },
    {
      "cell_type": "code",
      "metadata": {
        "id": "wyGqo1sTAWjC"
      },
      "source": [
        "# Implementing the decaying epsilon-greedy properly requires a class definition so we can store the epsilon values\n",
        "class DecayingEGreedy:\n",
        "    \n",
        "    def __init__(self, epsilon, decay=0.99, lower_bound=0):\n",
        "        self.epsilon = epsilon\n",
        "        self.decay = decay\n",
        "        self.lower_bound = lower_bound\n",
        "        \n",
        "    def policy(self, action_values):\n",
        "        if self.lower_bound > 0 and self.epsilon > self.lower_bound:\n",
        "            self.epsilon *= self.decay  # update epsilon\n",
        "        explore = np.random.choice([1, 0], p=[self.epsilon, 1-self.epsilon])  # explore vs exploit decision\n",
        "        if explore:\n",
        "            # Random action\n",
        "            return policy_random()\n",
        "        else:\n",
        "            # Choose best action\n",
        "            return policy_greedy(action_values)\n"
      ],
      "execution_count": 10,
      "outputs": []
    },
    {
      "cell_type": "code",
      "metadata": {
        "scrolled": true,
        "id": "fT5ZzbfZAWjE",
        "outputId": "c38fde6b-51b3-4518-c50d-708416498085",
        "colab": {
          "base_uri": "https://localhost:8080/"
        }
      },
      "source": [
        "# Let's test the decaying epsilon-greedy approach\n",
        "agent = DecayingEGreedy(epsilon=0.1, decay=0.99, lower_bound=0.03)\n",
        "\n",
        "# Full problem:\n",
        "action_values = [[], [], []] # initialise values\n",
        "rewards_decaying_e_greedy = []\n",
        "total_reward = 0\n",
        "print('Number of pulls\\t\\tTotal reward\\t\\tV')\n",
        "for pull in range(pulls):\n",
        "    action = agent.policy(action_values)  # choose action according to policy\n",
        "    reward = rewards[action]()  # get reward\n",
        "    action_values[action].append(reward)  # update action_values so we make better decisions down the line\n",
        "    total_reward += reward\n",
        "    if (pull+1) % 1000 == 0:\n",
        "        print('%d\\t\\t\\t%d\\t\\t\\t%.3f' % (pull+1, total_reward, total_reward/pull))\n",
        "        rewards_decaying_e_greedy.append(total_reward/pull)\n",
        "\n"
      ],
      "execution_count": 11,
      "outputs": [
        {
          "output_type": "stream",
          "name": "stdout",
          "text": [
            "Number of pulls\t\tTotal reward\t\tV\n",
            "1000\t\t\t593\t\t\t0.594\n"
          ]
        },
        {
          "output_type": "stream",
          "name": "stderr",
          "text": [
            "/usr/local/lib/python3.7/dist-packages/numpy/core/fromnumeric.py:3441: RuntimeWarning: Mean of empty slice.\n",
            "  out=out, **kwargs)\n",
            "/usr/local/lib/python3.7/dist-packages/numpy/core/_methods.py:189: RuntimeWarning: invalid value encountered in double_scalars\n",
            "  ret = ret.dtype.type(ret / rcount)\n"
          ]
        },
        {
          "output_type": "stream",
          "name": "stdout",
          "text": [
            "2000\t\t\t1170\t\t\t0.585\n",
            "3000\t\t\t1753\t\t\t0.585\n",
            "4000\t\t\t2347\t\t\t0.587\n",
            "5000\t\t\t2965\t\t\t0.593\n",
            "6000\t\t\t3575\t\t\t0.596\n",
            "7000\t\t\t4167\t\t\t0.595\n",
            "8000\t\t\t4764\t\t\t0.596\n",
            "9000\t\t\t5365\t\t\t0.596\n",
            "10000\t\t\t5938\t\t\t0.594\n",
            "11000\t\t\t6511\t\t\t0.592\n",
            "12000\t\t\t7118\t\t\t0.593\n",
            "13000\t\t\t7712\t\t\t0.593\n",
            "14000\t\t\t8323\t\t\t0.595\n",
            "15000\t\t\t8900\t\t\t0.593\n",
            "16000\t\t\t9496\t\t\t0.594\n",
            "17000\t\t\t10078\t\t\t0.593\n",
            "18000\t\t\t10672\t\t\t0.593\n",
            "19000\t\t\t11260\t\t\t0.593\n",
            "20000\t\t\t11853\t\t\t0.593\n",
            "21000\t\t\t12446\t\t\t0.593\n",
            "22000\t\t\t13059\t\t\t0.594\n",
            "23000\t\t\t13629\t\t\t0.593\n",
            "24000\t\t\t14227\t\t\t0.593\n",
            "25000\t\t\t14846\t\t\t0.594\n",
            "26000\t\t\t15454\t\t\t0.594\n",
            "27000\t\t\t16053\t\t\t0.595\n",
            "28000\t\t\t16662\t\t\t0.595\n",
            "29000\t\t\t17264\t\t\t0.595\n",
            "30000\t\t\t17876\t\t\t0.596\n",
            "31000\t\t\t18490\t\t\t0.596\n",
            "32000\t\t\t19099\t\t\t0.597\n",
            "33000\t\t\t19681\t\t\t0.596\n",
            "34000\t\t\t20280\t\t\t0.596\n",
            "35000\t\t\t20887\t\t\t0.597\n",
            "36000\t\t\t21484\t\t\t0.597\n",
            "37000\t\t\t22093\t\t\t0.597\n",
            "38000\t\t\t22702\t\t\t0.597\n",
            "39000\t\t\t23266\t\t\t0.597\n",
            "40000\t\t\t23878\t\t\t0.597\n",
            "41000\t\t\t24472\t\t\t0.597\n",
            "42000\t\t\t25044\t\t\t0.596\n",
            "43000\t\t\t25675\t\t\t0.597\n",
            "44000\t\t\t26257\t\t\t0.597\n",
            "45000\t\t\t26875\t\t\t0.597\n",
            "46000\t\t\t27464\t\t\t0.597\n",
            "47000\t\t\t28035\t\t\t0.597\n",
            "48000\t\t\t28626\t\t\t0.596\n",
            "49000\t\t\t29219\t\t\t0.596\n",
            "50000\t\t\t29797\t\t\t0.596\n",
            "51000\t\t\t30411\t\t\t0.596\n",
            "52000\t\t\t31009\t\t\t0.596\n",
            "53000\t\t\t31572\t\t\t0.596\n",
            "54000\t\t\t32144\t\t\t0.595\n",
            "55000\t\t\t32741\t\t\t0.595\n",
            "56000\t\t\t33352\t\t\t0.596\n",
            "57000\t\t\t33940\t\t\t0.595\n",
            "58000\t\t\t34548\t\t\t0.596\n",
            "59000\t\t\t35133\t\t\t0.595\n",
            "60000\t\t\t35705\t\t\t0.595\n",
            "61000\t\t\t36299\t\t\t0.595\n",
            "62000\t\t\t36899\t\t\t0.595\n",
            "63000\t\t\t37473\t\t\t0.595\n",
            "64000\t\t\t38085\t\t\t0.595\n",
            "65000\t\t\t38679\t\t\t0.595\n",
            "66000\t\t\t39265\t\t\t0.595\n",
            "67000\t\t\t39838\t\t\t0.595\n",
            "68000\t\t\t40447\t\t\t0.595\n",
            "69000\t\t\t41032\t\t\t0.595\n",
            "70000\t\t\t41621\t\t\t0.595\n",
            "71000\t\t\t42224\t\t\t0.595\n",
            "72000\t\t\t42825\t\t\t0.595\n",
            "73000\t\t\t43424\t\t\t0.595\n",
            "74000\t\t\t44042\t\t\t0.595\n",
            "75000\t\t\t44639\t\t\t0.595\n",
            "76000\t\t\t45247\t\t\t0.595\n",
            "77000\t\t\t45832\t\t\t0.595\n",
            "78000\t\t\t46423\t\t\t0.595\n",
            "79000\t\t\t47032\t\t\t0.595\n",
            "80000\t\t\t47644\t\t\t0.596\n",
            "81000\t\t\t48236\t\t\t0.596\n",
            "82000\t\t\t48830\t\t\t0.595\n",
            "83000\t\t\t49424\t\t\t0.595\n",
            "84000\t\t\t49993\t\t\t0.595\n",
            "85000\t\t\t50582\t\t\t0.595\n",
            "86000\t\t\t51171\t\t\t0.595\n",
            "87000\t\t\t51781\t\t\t0.595\n",
            "88000\t\t\t52358\t\t\t0.595\n",
            "89000\t\t\t52964\t\t\t0.595\n",
            "90000\t\t\t53550\t\t\t0.595\n",
            "91000\t\t\t54134\t\t\t0.595\n",
            "92000\t\t\t54742\t\t\t0.595\n",
            "93000\t\t\t55321\t\t\t0.595\n",
            "94000\t\t\t55915\t\t\t0.595\n",
            "95000\t\t\t56552\t\t\t0.595\n",
            "96000\t\t\t57164\t\t\t0.595\n",
            "97000\t\t\t57754\t\t\t0.595\n",
            "98000\t\t\t58379\t\t\t0.596\n",
            "99000\t\t\t58977\t\t\t0.596\n",
            "100000\t\t\t59583\t\t\t0.596\n"
          ]
        }
      ]
    },
    {
      "cell_type": "code",
      "metadata": {
        "id": "uLHnVY5AAWjL",
        "outputId": "0895a46f-b3e4-4333-a0b3-4f6318463841",
        "colab": {
          "base_uri": "https://localhost:8080/",
          "height": 299
        }
      },
      "source": [
        "plt.plot(np.arange(1000, pulls+1, step=1000), rewards_decaying_e_greedy)\n",
        "plt.xlabel(\"Iterations\")\n",
        "plt.ylabel(\"Average reward (V)\")\n",
        "# The average reward is 0.594, which is very close to V* (0.6)!"
      ],
      "execution_count": 12,
      "outputs": [
        {
          "output_type": "execute_result",
          "data": {
            "text/plain": [
              "Text(0, 0.5, 'Average reward (V)')"
            ]
          },
          "metadata": {},
          "execution_count": 12
        },
        {
          "output_type": "display_data",
          "data": {
            "text/plain": [
              "<Figure size 432x288 with 1 Axes>"
            ],
            "image/png": "[encoded data removed]"
          },
          "metadata": {
            "needs_background": "light"
          }
        }
      ]
    },
    {
      "cell_type": "code",
      "metadata": {
        "id": "KeR_XuqUAWjO"
      },
      "source": [
        "# Implementing the decaying epsilon-greedy properly requires a class definition so we can store the epsilon values\n",
        "class UCB:\n",
        "    \n",
        "    def __init__(self, C=0.5, n_arms=3):\n",
        "        self.C = C\n",
        "        self.pulls = 0\n",
        "        self.counts = np.asarray([0] * n_arms)\n",
        "        \n",
        "    def update_counts(self, arm):\n",
        "        self.pulls += 1\n",
        "        self.counts[arm] += 1\n",
        "        \n",
        "    def policy(self, action_values):\n",
        "        action_values = np.asarray([np.mean(value) for value in action_values])\n",
        "        uncertainty = np.sqrt(np.log(self.pulls) / self.counts)\n",
        "        ucb = action_values + self.C * uncertainty\n",
        "        action = np.argmax(ucb)\n",
        "        self.update_counts(action)\n",
        "        return action\n"
      ],
      "execution_count": 13,
      "outputs": []
    },
    {
      "cell_type": "code",
      "metadata": {
        "scrolled": true,
        "id": "eRI6_3tCAWjP",
        "outputId": "7bef13e9-9506-441f-ba25-bff95e1aa0bc",
        "colab": {
          "base_uri": "https://localhost:8080/"
        }
      },
      "source": [
        "# Let's test the decaying epsilon-greedy approach\n",
        "agent = UCB(C=0.5)\n",
        "\n",
        "# Full problem:\n",
        "action_values = [[], [], []] # initialise values\n",
        "total_reward = 0 # reset reward\n",
        "rewards_ucb = []\n",
        "print('Number of pulls\\t\\tTotal reward\\t\\tV')\n",
        "for pull in range(pulls):\n",
        "    action = agent.policy(action_values)  # choose action according to policy\n",
        "    reward = rewards[action]()  # get reward\n",
        "    action_values[action].append(reward)  # update action_values so we make better decisions down the line\n",
        "    total_reward += reward\n",
        "    if (pull+1) % 1000 == 0:\n",
        "        print('%d\\t\\t\\t%d\\t\\t\\t%.3f' % (pull+1, total_reward, total_reward/pull))\n",
        "        rewards_ucb.append(total_reward/pull)\n"
      ],
      "execution_count": 14,
      "outputs": [
        {
          "output_type": "stream",
          "name": "stdout",
          "text": [
            "Number of pulls\t\tTotal reward\t\tV\n",
            "1000\t\t\t592\t\t\t0.593\n"
          ]
        },
        {
          "output_type": "stream",
          "name": "stderr",
          "text": [
            "/usr/local/lib/python3.7/dist-packages/numpy/core/fromnumeric.py:3441: RuntimeWarning: Mean of empty slice.\n",
            "  out=out, **kwargs)\n",
            "/usr/local/lib/python3.7/dist-packages/numpy/core/_methods.py:189: RuntimeWarning: invalid value encountered in double_scalars\n",
            "  ret = ret.dtype.type(ret / rcount)\n",
            "/usr/local/lib/python3.7/dist-packages/ipykernel_launcher.py:15: RuntimeWarning: divide by zero encountered in log\n",
            "  from ipykernel import kernelapp as app\n",
            "/usr/local/lib/python3.7/dist-packages/ipykernel_launcher.py:15: RuntimeWarning: invalid value encountered in sqrt\n",
            "  from ipykernel import kernelapp as app\n",
            "/usr/local/lib/python3.7/dist-packages/ipykernel_launcher.py:15: RuntimeWarning: invalid value encountered in true_divide\n",
            "  from ipykernel import kernelapp as app\n",
            "/usr/local/lib/python3.7/dist-packages/ipykernel_launcher.py:15: RuntimeWarning: divide by zero encountered in true_divide\n",
            "  from ipykernel import kernelapp as app\n"
          ]
        },
        {
          "output_type": "stream",
          "name": "stdout",
          "text": [
            "2000\t\t\t1174\t\t\t0.587\n",
            "3000\t\t\t1768\t\t\t0.590\n",
            "4000\t\t\t2387\t\t\t0.597\n",
            "5000\t\t\t2980\t\t\t0.596\n",
            "6000\t\t\t3616\t\t\t0.603\n",
            "7000\t\t\t4199\t\t\t0.600\n",
            "8000\t\t\t4766\t\t\t0.596\n",
            "9000\t\t\t5378\t\t\t0.598\n",
            "10000\t\t\t5966\t\t\t0.597\n",
            "11000\t\t\t6595\t\t\t0.600\n",
            "12000\t\t\t7185\t\t\t0.599\n",
            "13000\t\t\t7791\t\t\t0.599\n",
            "14000\t\t\t8378\t\t\t0.598\n",
            "15000\t\t\t8979\t\t\t0.599\n",
            "16000\t\t\t9581\t\t\t0.599\n",
            "17000\t\t\t10170\t\t\t0.598\n",
            "18000\t\t\t10782\t\t\t0.599\n",
            "19000\t\t\t11399\t\t\t0.600\n",
            "20000\t\t\t12014\t\t\t0.601\n",
            "21000\t\t\t12606\t\t\t0.600\n",
            "22000\t\t\t13201\t\t\t0.600\n",
            "23000\t\t\t13797\t\t\t0.600\n",
            "24000\t\t\t14413\t\t\t0.601\n",
            "25000\t\t\t15015\t\t\t0.601\n",
            "26000\t\t\t15589\t\t\t0.600\n",
            "27000\t\t\t16187\t\t\t0.600\n",
            "28000\t\t\t16797\t\t\t0.600\n",
            "29000\t\t\t17382\t\t\t0.599\n",
            "30000\t\t\t17968\t\t\t0.599\n",
            "31000\t\t\t18561\t\t\t0.599\n",
            "32000\t\t\t19165\t\t\t0.599\n",
            "33000\t\t\t19776\t\t\t0.599\n",
            "34000\t\t\t20417\t\t\t0.601\n",
            "35000\t\t\t21037\t\t\t0.601\n",
            "36000\t\t\t21624\t\t\t0.601\n",
            "37000\t\t\t22225\t\t\t0.601\n",
            "38000\t\t\t22821\t\t\t0.601\n",
            "39000\t\t\t23429\t\t\t0.601\n",
            "40000\t\t\t24014\t\t\t0.600\n",
            "41000\t\t\t24606\t\t\t0.600\n",
            "42000\t\t\t25190\t\t\t0.600\n",
            "43000\t\t\t25794\t\t\t0.600\n",
            "44000\t\t\t26387\t\t\t0.600\n",
            "45000\t\t\t27000\t\t\t0.600\n",
            "46000\t\t\t27584\t\t\t0.600\n",
            "47000\t\t\t28197\t\t\t0.600\n",
            "48000\t\t\t28798\t\t\t0.600\n",
            "49000\t\t\t29405\t\t\t0.600\n",
            "50000\t\t\t30006\t\t\t0.600\n",
            "51000\t\t\t30608\t\t\t0.600\n",
            "52000\t\t\t31201\t\t\t0.600\n",
            "53000\t\t\t31790\t\t\t0.600\n",
            "54000\t\t\t32357\t\t\t0.599\n",
            "55000\t\t\t32974\t\t\t0.600\n",
            "56000\t\t\t33572\t\t\t0.600\n",
            "57000\t\t\t34177\t\t\t0.600\n",
            "58000\t\t\t34784\t\t\t0.600\n",
            "59000\t\t\t35389\t\t\t0.600\n",
            "60000\t\t\t36011\t\t\t0.600\n",
            "61000\t\t\t36646\t\t\t0.601\n",
            "62000\t\t\t37248\t\t\t0.601\n",
            "63000\t\t\t37841\t\t\t0.601\n",
            "64000\t\t\t38428\t\t\t0.600\n",
            "65000\t\t\t39056\t\t\t0.601\n",
            "66000\t\t\t39654\t\t\t0.601\n",
            "67000\t\t\t40255\t\t\t0.601\n",
            "68000\t\t\t40841\t\t\t0.601\n",
            "69000\t\t\t41447\t\t\t0.601\n",
            "70000\t\t\t42039\t\t\t0.601\n",
            "71000\t\t\t42621\t\t\t0.600\n",
            "72000\t\t\t43232\t\t\t0.600\n",
            "73000\t\t\t43830\t\t\t0.600\n",
            "74000\t\t\t44439\t\t\t0.601\n",
            "75000\t\t\t45032\t\t\t0.600\n",
            "76000\t\t\t45594\t\t\t0.600\n",
            "77000\t\t\t46178\t\t\t0.600\n",
            "78000\t\t\t46799\t\t\t0.600\n",
            "79000\t\t\t47379\t\t\t0.600\n",
            "80000\t\t\t47965\t\t\t0.600\n",
            "81000\t\t\t48553\t\t\t0.599\n",
            "82000\t\t\t49186\t\t\t0.600\n",
            "83000\t\t\t49786\t\t\t0.600\n",
            "84000\t\t\t50382\t\t\t0.600\n",
            "85000\t\t\t51000\t\t\t0.600\n",
            "86000\t\t\t51578\t\t\t0.600\n",
            "87000\t\t\t52176\t\t\t0.600\n",
            "88000\t\t\t52763\t\t\t0.600\n",
            "89000\t\t\t53343\t\t\t0.599\n",
            "90000\t\t\t53954\t\t\t0.599\n",
            "91000\t\t\t54531\t\t\t0.599\n",
            "92000\t\t\t55155\t\t\t0.600\n",
            "93000\t\t\t55768\t\t\t0.600\n",
            "94000\t\t\t56383\t\t\t0.600\n",
            "95000\t\t\t56991\t\t\t0.600\n",
            "96000\t\t\t57589\t\t\t0.600\n",
            "97000\t\t\t58171\t\t\t0.600\n",
            "98000\t\t\t58785\t\t\t0.600\n",
            "99000\t\t\t59372\t\t\t0.600\n",
            "100000\t\t\t59972\t\t\t0.600\n"
          ]
        }
      ]
    },
    {
      "cell_type": "code",
      "metadata": {
        "id": "TT8pNLSlAWjR",
        "outputId": "a5437944-cb98-471b-fa5f-065b6f5bff3f",
        "colab": {
          "base_uri": "https://localhost:8080/",
          "height": 297
        }
      },
      "source": [
        "plt.plot(np.arange(1000, pulls+1, step=1000), rewards_ucb)\n",
        "plt.xlabel(\"Iterations\")\n",
        "plt.ylabel(\"Average reward (V)\")"
      ],
      "execution_count": 15,
      "outputs": [
        {
          "output_type": "execute_result",
          "data": {
            "text/plain": [
              "Text(0, 0.5, 'Average reward (V)')"
            ]
          },
          "metadata": {},
          "execution_count": 15
        },
        {
          "output_type": "display_data",
          "data": {
            "text/plain": [
              "<Figure size 432x288 with 1 Axes>"
            ],
            "image/png": "[encoded data removed]"
          },
          "metadata": {
            "needs_background": "light"
          }
        }
      ]
    },
    {
      "cell_type": "code",
      "metadata": {
        "id": "zgfnlMU6AWjT"
      },
      "source": [
        ""
      ],
      "execution_count": null,
      "outputs": []
    }
  ]
}